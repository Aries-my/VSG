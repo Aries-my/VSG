{
 "cells": [
  {
   "cell_type": "code",
   "execution_count": 3,
   "outputs": [],
   "source": [
    "import csv\n",
    "csvFile = open(\"data/HDPE/train_data.csv\",'w',newline='',encoding='utf-8')\n",
    "writer = csv.writer(csvFile)\n",
    "csvRow = []\n",
    "\n",
    "f = open(\"data/HDPE/train_data.txt\",'r',encoding='GB2312')\n",
    "for line in f:\n",
    "    csvRow = line.split()\n",
    "    writer.writerow(csvRow)\n",
    "\n",
    "f.close()\n",
    "csvFile.close()"
   ],
   "metadata": {
    "collapsed": false,
    "pycharm": {
     "name": "#%%\n",
     "is_executing": false
    }
   }
  }
 ],
 "metadata": {
  "kernelspec": {
   "display_name": "Python 3",
   "language": "python",
   "name": "python3"
  },
  "language_info": {
   "codemirror_mode": {
    "name": "ipython",
    "version": 2
   },
   "file_extension": ".py",
   "mimetype": "text/x-python",
   "name": "python",
   "nbconvert_exporter": "python",
   "pygments_lexer": "ipython2",
   "version": "2.7.6"
  },
  "pycharm": {
   "stem_cell": {
    "cell_type": "raw",
    "source": [],
    "metadata": {
     "collapsed": false
    }
   }
  }
 },
 "nbformat": 4,
 "nbformat_minor": 0
}