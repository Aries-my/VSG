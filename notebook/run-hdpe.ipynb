{
 "cells": [
  {
   "cell_type": "code",
   "execution_count": 1,
   "outputs": [
    {
     "data": {
      "text/html": "\n    <div class=\"bk-root\">\n        <a href=\"https://bokeh.org\" target=\"_blank\" class=\"bk-logo bk-logo-small bk-logo-notebook\"></a>\n        <span id=\"1001\">Loading BokehJS ...</span>\n    </div>"
     },
     "metadata": {},
     "output_type": "display_data"
    },
    {
     "data": {
      "application/javascript": "\n(function(root) {\n  function now() {\n    return new Date();\n  }\n\n  var force = true;\n\n  if (typeof root._bokeh_onload_callbacks === \"undefined\" || force === true) {\n    root._bokeh_onload_callbacks = [];\n    root._bokeh_is_loading = undefined;\n  }\n\n  var JS_MIME_TYPE = 'application/javascript';\n  var HTML_MIME_TYPE = 'text/html';\n  var EXEC_MIME_TYPE = 'application/vnd.bokehjs_exec.v0+json';\n  var CLASS_NAME = 'output_bokeh rendered_html';\n\n  /**\n   * Render data to the DOM node\n   */\n  function render(props, node) {\n    var script = document.createElement(\"script\");\n    node.appendChild(script);\n  }\n\n  /**\n   * Handle when an output is cleared or removed\n   */\n  function handleClearOutput(event, handle) {\n    var cell = handle.cell;\n\n    var id = cell.output_area._bokeh_element_id;\n    var server_id = cell.output_area._bokeh_server_id;\n    // Clean up Bokeh references\n    if (id != null && id in Bokeh.index) {\n      Bokeh.index[id].model.document.clear();\n      delete Bokeh.index[id];\n    }\n\n    if (server_id !== undefined) {\n      // Clean up Bokeh references\n      var cmd = \"from bokeh.io.state import curstate; print(curstate().uuid_to_server['\" + server_id + \"'].get_sessions()[0].document.roots[0]._id)\";\n      cell.notebook.kernel.execute(cmd, {\n        iopub: {\n          output: function(msg) {\n            var id = msg.content.text.trim();\n            if (id in Bokeh.index) {\n              Bokeh.index[id].model.document.clear();\n              delete Bokeh.index[id];\n            }\n          }\n        }\n      });\n      // Destroy server and session\n      var cmd = \"import bokeh.io.notebook as ion; ion.destroy_server('\" + server_id + \"')\";\n      cell.notebook.kernel.execute(cmd);\n    }\n  }\n\n  /**\n   * Handle when a new output is added\n   */\n  function handleAddOutput(event, handle) {\n    var output_area = handle.output_area;\n    var output = handle.output;\n\n    // limit handleAddOutput to display_data with EXEC_MIME_TYPE content only\n    if ((output.output_type != \"display_data\") || (!output.data.hasOwnProperty(EXEC_MIME_TYPE))) {\n      return\n    }\n\n    var toinsert = output_area.element.find(\".\" + CLASS_NAME.split(' ')[0]);\n\n    if (output.metadata[EXEC_MIME_TYPE][\"id\"] !== undefined) {\n      toinsert[toinsert.length - 1].firstChild.textContent = output.data[JS_MIME_TYPE];\n      // store reference to embed id on output_area\n      output_area._bokeh_element_id = output.metadata[EXEC_MIME_TYPE][\"id\"];\n    }\n    if (output.metadata[EXEC_MIME_TYPE][\"server_id\"] !== undefined) {\n      var bk_div = document.createElement(\"div\");\n      bk_div.innerHTML = output.data[HTML_MIME_TYPE];\n      var script_attrs = bk_div.children[0].attributes;\n      for (var i = 0; i < script_attrs.length; i++) {\n        toinsert[toinsert.length - 1].firstChild.setAttribute(script_attrs[i].name, script_attrs[i].value);\n        toinsert[toinsert.length - 1].firstChild.textContent = bk_div.children[0].textContent\n      }\n      // store reference to server id on output_area\n      output_area._bokeh_server_id = output.metadata[EXEC_MIME_TYPE][\"server_id\"];\n    }\n  }\n\n  function register_renderer(events, OutputArea) {\n\n    function append_mime(data, metadata, element) {\n      // create a DOM node to render to\n      var toinsert = this.create_output_subarea(\n        metadata,\n        CLASS_NAME,\n        EXEC_MIME_TYPE\n      );\n      this.keyboard_manager.register_events(toinsert);\n      // Render to node\n      var props = {data: data, metadata: metadata[EXEC_MIME_TYPE]};\n      render(props, toinsert[toinsert.length - 1]);\n      element.append(toinsert);\n      return toinsert\n    }\n\n    /* Handle when an output is cleared or removed */\n    events.on('clear_output.CodeCell', handleClearOutput);\n    events.on('delete.Cell', handleClearOutput);\n\n    /* Handle when a new output is added */\n    events.on('output_added.OutputArea', handleAddOutput);\n\n    /**\n     * Register the mime type and append_mime function with output_area\n     */\n    OutputArea.prototype.register_mime_type(EXEC_MIME_TYPE, append_mime, {\n      /* Is output safe? */\n      safe: true,\n      /* Index of renderer in `output_area.display_order` */\n      index: 0\n    });\n  }\n\n  // register the mime type if in Jupyter Notebook environment and previously unregistered\n  if (root.Jupyter !== undefined) {\n    var events = require('base/js/events');\n    var OutputArea = require('notebook/js/outputarea').OutputArea;\n\n    if (OutputArea.prototype.mime_types().indexOf(EXEC_MIME_TYPE) == -1) {\n      register_renderer(events, OutputArea);\n    }\n  }\n\n  \n  if (typeof (root._bokeh_timeout) === \"undefined\" || force === true) {\n    root._bokeh_timeout = Date.now() + 5000;\n    root._bokeh_failed_load = false;\n  }\n\n  var NB_LOAD_WARNING = {'data': {'text/html':\n     \"<div style='background-color: #fdd'>\\n\"+\n     \"<p>\\n\"+\n     \"BokehJS does not appear to have successfully loaded. If loading BokehJS from CDN, this \\n\"+\n     \"may be due to a slow or bad network connection. Possible fixes:\\n\"+\n     \"</p>\\n\"+\n     \"<ul>\\n\"+\n     \"<li>re-rerun `output_notebook()` to attempt to load from CDN again, or</li>\\n\"+\n     \"<li>use INLINE resources instead, as so:</li>\\n\"+\n     \"</ul>\\n\"+\n     \"<code>\\n\"+\n     \"from bokeh.resources import INLINE\\n\"+\n     \"output_notebook(resources=INLINE)\\n\"+\n     \"</code>\\n\"+\n     \"</div>\"}};\n\n  function display_loaded() {\n    var el = document.getElementById(\"1001\");\n    if (el != null) {\n      el.textContent = \"BokehJS is loading...\";\n    }\n    if (root.Bokeh !== undefined) {\n      if (el != null) {\n        el.textContent = \"BokehJS \" + root.Bokeh.version + \" successfully loaded.\";\n      }\n    } else if (Date.now() < root._bokeh_timeout) {\n      setTimeout(display_loaded, 100)\n    }\n  }\n\n\n  function run_callbacks() {\n    try {\n      root._bokeh_onload_callbacks.forEach(function(callback) {\n        if (callback != null)\n          callback();\n      });\n    } finally {\n      delete root._bokeh_onload_callbacks\n    }\n    console.debug(\"Bokeh: all callbacks have finished\");\n  }\n\n  function load_libs(css_urls, js_urls, callback) {\n    if (css_urls == null) css_urls = [];\n    if (js_urls == null) js_urls = [];\n\n    root._bokeh_onload_callbacks.push(callback);\n    if (root._bokeh_is_loading > 0) {\n      console.debug(\"Bokeh: BokehJS is being loaded, scheduling callback at\", now());\n      return null;\n    }\n    if (js_urls == null || js_urls.length === 0) {\n      run_callbacks();\n      return null;\n    }\n    console.debug(\"Bokeh: BokehJS not loaded, scheduling load and callback at\", now());\n    root._bokeh_is_loading = css_urls.length + js_urls.length;\n\n    function on_load() {\n      root._bokeh_is_loading--;\n      if (root._bokeh_is_loading === 0) {\n        console.debug(\"Bokeh: all BokehJS libraries/stylesheets loaded\");\n        run_callbacks()\n      }\n    }\n\n    function on_error() {\n      console.error(\"failed to load \" + url);\n    }\n\n    for (var i = 0; i < css_urls.length; i++) {\n      var url = css_urls[i];\n      const element = document.createElement(\"link\");\n      element.onload = on_load;\n      element.onerror = on_error;\n      element.rel = \"stylesheet\";\n      element.type = \"text/css\";\n      element.href = url;\n      console.debug(\"Bokeh: injecting link tag for BokehJS stylesheet: \", url);\n      document.body.appendChild(element);\n    }\n\n    const hashes = {\"https://cdn.bokeh.org/bokeh/release/bokeh-2.2.1.min.js\": \"qkRvDQVAIfzsJo40iRBbxt6sttt0hv4lh74DG7OK4MCHv4C5oohXYoHUM5W11uqS\", \"https://cdn.bokeh.org/bokeh/release/bokeh-widgets-2.2.1.min.js\": \"Sb7Mr06a9TNlet/GEBeKaf5xH3eb6AlCzwjtU82wNPyDrnfoiVl26qnvlKjmcAd+\", \"https://cdn.bokeh.org/bokeh/release/bokeh-tables-2.2.1.min.js\": \"HaJ15vgfmcfRtB4c4YBOI4f1MUujukqInOWVqZJZZGK7Q+ivud0OKGSTn/Vm2iso\"};\n\n    for (var i = 0; i < js_urls.length; i++) {\n      var url = js_urls[i];\n      var element = document.createElement('script');\n      element.onload = on_load;\n      element.onerror = on_error;\n      element.async = false;\n      element.src = url;\n      if (url in hashes) {\n        element.crossOrigin = \"anonymous\";\n        element.integrity = \"sha384-\" + hashes[url];\n      }\n      console.debug(\"Bokeh: injecting script tag for BokehJS library: \", url);\n      document.head.appendChild(element);\n    }\n  };\n\n  function inject_raw_css(css) {\n    const element = document.createElement(\"style\");\n    element.appendChild(document.createTextNode(css));\n    document.body.appendChild(element);\n  }\n\n  \n  var js_urls = [\"https://cdn.bokeh.org/bokeh/release/bokeh-2.2.1.min.js\", \"https://cdn.bokeh.org/bokeh/release/bokeh-widgets-2.2.1.min.js\", \"https://cdn.bokeh.org/bokeh/release/bokeh-tables-2.2.1.min.js\"];\n  var css_urls = [];\n  \n\n  var inline_js = [\n    function(Bokeh) {\n      Bokeh.set_log_level(\"info\");\n    },\n    function(Bokeh) {\n    \n    \n    }\n  ];\n\n  function run_inline_js() {\n    \n    if (root.Bokeh !== undefined || force === true) {\n      \n    for (var i = 0; i < inline_js.length; i++) {\n      inline_js[i].call(root, root.Bokeh);\n    }\n    if (force === true) {\n        display_loaded();\n      }} else if (Date.now() < root._bokeh_timeout) {\n      setTimeout(run_inline_js, 100);\n    } else if (!root._bokeh_failed_load) {\n      console.log(\"Bokeh: BokehJS failed to load within specified timeout.\");\n      root._bokeh_failed_load = true;\n    } else if (force !== true) {\n      var cell = $(document.getElementById(\"1001\")).parents('.cell').data().cell;\n      cell.output_area.append_execute_result(NB_LOAD_WARNING)\n    }\n\n  }\n\n  if (root._bokeh_is_loading === 0) {\n    console.debug(\"Bokeh: BokehJS loaded, going straight to plotting\");\n    run_inline_js();\n  } else {\n    load_libs(css_urls, js_urls, function() {\n      console.debug(\"Bokeh: BokehJS plotting callback run at\", now());\n      run_inline_js();\n    });\n  }\n}(window));",
      "application/vnd.bokehjs_load.v0+json": "\n(function(root) {\n  function now() {\n    return new Date();\n  }\n\n  var force = true;\n\n  if (typeof root._bokeh_onload_callbacks === \"undefined\" || force === true) {\n    root._bokeh_onload_callbacks = [];\n    root._bokeh_is_loading = undefined;\n  }\n\n  \n\n  \n  if (typeof (root._bokeh_timeout) === \"undefined\" || force === true) {\n    root._bokeh_timeout = Date.now() + 5000;\n    root._bokeh_failed_load = false;\n  }\n\n  var NB_LOAD_WARNING = {'data': {'text/html':\n     \"<div style='background-color: #fdd'>\\n\"+\n     \"<p>\\n\"+\n     \"BokehJS does not appear to have successfully loaded. If loading BokehJS from CDN, this \\n\"+\n     \"may be due to a slow or bad network connection. Possible fixes:\\n\"+\n     \"</p>\\n\"+\n     \"<ul>\\n\"+\n     \"<li>re-rerun `output_notebook()` to attempt to load from CDN again, or</li>\\n\"+\n     \"<li>use INLINE resources instead, as so:</li>\\n\"+\n     \"</ul>\\n\"+\n     \"<code>\\n\"+\n     \"from bokeh.resources import INLINE\\n\"+\n     \"output_notebook(resources=INLINE)\\n\"+\n     \"</code>\\n\"+\n     \"</div>\"}};\n\n  function display_loaded() {\n    var el = document.getElementById(\"1001\");\n    if (el != null) {\n      el.textContent = \"BokehJS is loading...\";\n    }\n    if (root.Bokeh !== undefined) {\n      if (el != null) {\n        el.textContent = \"BokehJS \" + root.Bokeh.version + \" successfully loaded.\";\n      }\n    } else if (Date.now() < root._bokeh_timeout) {\n      setTimeout(display_loaded, 100)\n    }\n  }\n\n\n  function run_callbacks() {\n    try {\n      root._bokeh_onload_callbacks.forEach(function(callback) {\n        if (callback != null)\n          callback();\n      });\n    } finally {\n      delete root._bokeh_onload_callbacks\n    }\n    console.debug(\"Bokeh: all callbacks have finished\");\n  }\n\n  function load_libs(css_urls, js_urls, callback) {\n    if (css_urls == null) css_urls = [];\n    if (js_urls == null) js_urls = [];\n\n    root._bokeh_onload_callbacks.push(callback);\n    if (root._bokeh_is_loading > 0) {\n      console.debug(\"Bokeh: BokehJS is being loaded, scheduling callback at\", now());\n      return null;\n    }\n    if (js_urls == null || js_urls.length === 0) {\n      run_callbacks();\n      return null;\n    }\n    console.debug(\"Bokeh: BokehJS not loaded, scheduling load and callback at\", now());\n    root._bokeh_is_loading = css_urls.length + js_urls.length;\n\n    function on_load() {\n      root._bokeh_is_loading--;\n      if (root._bokeh_is_loading === 0) {\n        console.debug(\"Bokeh: all BokehJS libraries/stylesheets loaded\");\n        run_callbacks()\n      }\n    }\n\n    function on_error() {\n      console.error(\"failed to load \" + url);\n    }\n\n    for (var i = 0; i < css_urls.length; i++) {\n      var url = css_urls[i];\n      const element = document.createElement(\"link\");\n      element.onload = on_load;\n      element.onerror = on_error;\n      element.rel = \"stylesheet\";\n      element.type = \"text/css\";\n      element.href = url;\n      console.debug(\"Bokeh: injecting link tag for BokehJS stylesheet: \", url);\n      document.body.appendChild(element);\n    }\n\n    const hashes = {\"https://cdn.bokeh.org/bokeh/release/bokeh-2.2.1.min.js\": \"qkRvDQVAIfzsJo40iRBbxt6sttt0hv4lh74DG7OK4MCHv4C5oohXYoHUM5W11uqS\", \"https://cdn.bokeh.org/bokeh/release/bokeh-widgets-2.2.1.min.js\": \"Sb7Mr06a9TNlet/GEBeKaf5xH3eb6AlCzwjtU82wNPyDrnfoiVl26qnvlKjmcAd+\", \"https://cdn.bokeh.org/bokeh/release/bokeh-tables-2.2.1.min.js\": \"HaJ15vgfmcfRtB4c4YBOI4f1MUujukqInOWVqZJZZGK7Q+ivud0OKGSTn/Vm2iso\"};\n\n    for (var i = 0; i < js_urls.length; i++) {\n      var url = js_urls[i];\n      var element = document.createElement('script');\n      element.onload = on_load;\n      element.onerror = on_error;\n      element.async = false;\n      element.src = url;\n      if (url in hashes) {\n        element.crossOrigin = \"anonymous\";\n        element.integrity = \"sha384-\" + hashes[url];\n      }\n      console.debug(\"Bokeh: injecting script tag for BokehJS library: \", url);\n      document.head.appendChild(element);\n    }\n  };\n\n  function inject_raw_css(css) {\n    const element = document.createElement(\"style\");\n    element.appendChild(document.createTextNode(css));\n    document.body.appendChild(element);\n  }\n\n  \n  var js_urls = [\"https://cdn.bokeh.org/bokeh/release/bokeh-2.2.1.min.js\", \"https://cdn.bokeh.org/bokeh/release/bokeh-widgets-2.2.1.min.js\", \"https://cdn.bokeh.org/bokeh/release/bokeh-tables-2.2.1.min.js\"];\n  var css_urls = [];\n  \n\n  var inline_js = [\n    function(Bokeh) {\n      Bokeh.set_log_level(\"info\");\n    },\n    function(Bokeh) {\n    \n    \n    }\n  ];\n\n  function run_inline_js() {\n    \n    if (root.Bokeh !== undefined || force === true) {\n      \n    for (var i = 0; i < inline_js.length; i++) {\n      inline_js[i].call(root, root.Bokeh);\n    }\n    if (force === true) {\n        display_loaded();\n      }} else if (Date.now() < root._bokeh_timeout) {\n      setTimeout(run_inline_js, 100);\n    } else if (!root._bokeh_failed_load) {\n      console.log(\"Bokeh: BokehJS failed to load within specified timeout.\");\n      root._bokeh_failed_load = true;\n    } else if (force !== true) {\n      var cell = $(document.getElementById(\"1001\")).parents('.cell').data().cell;\n      cell.output_area.append_execute_result(NB_LOAD_WARNING)\n    }\n\n  }\n\n  if (root._bokeh_is_loading === 0) {\n    console.debug(\"Bokeh: BokehJS loaded, going straight to plotting\");\n    run_inline_js();\n  } else {\n    load_libs(css_urls, js_urls, function() {\n      console.debug(\"Bokeh: BokehJS plotting callback run at\", now());\n      run_inline_js();\n    });\n  }\n}(window));"
     },
     "metadata": {},
     "output_type": "display_data"
    },
    {
     "data": {
      "text/html": "        <script type=\"text/javascript\">\n        window.PlotlyConfig = {MathJaxConfig: 'local'};\n        if (window.MathJax) {MathJax.Hub.Config({SVG: {font: \"STIX-Web\"}});}\n        if (typeof require !== 'undefined') {\n        require.undef(\"plotly\");\n        requirejs.config({\n            paths: {\n                'plotly': ['https://cdn.plot.ly/plotly-latest.min']\n            }\n        });\n        require(['plotly'], function(Plotly) {\n            window._Plotly = Plotly;\n        });\n        }\n        </script>\n        "
     },
     "metadata": {},
     "output_type": "display_data"
    },
    {
     "data": {
      "text/plain": "<module 'Generation' from 'D:\\\\netSVG\\\\Generation.py'>"
     },
     "metadata": {},
     "output_type": "execute_result",
     "execution_count": 1
    }
   ],
   "source": [
    "import numpy as np\n",
    "import importlib\n",
    "import dataset\n",
    "import config, plotting, sample, SampleCharacter, XLim, QRselection\n",
    "import QrModels, Point\n",
    "import copy\n",
    "import RelativeImportance\n",
    "import Measure\n",
    "import Generation\n",
    "\n",
    "\n",
    "importlib.reload(config)\n",
    "importlib.reload(dataset)\n",
    "importlib.reload(plotting)\n",
    "importlib.reload(sample)\n",
    "importlib.reload(SampleCharacter)\n",
    "importlib.reload(XLim)\n",
    "importlib.reload(QRselection)\n",
    "importlib.reload(QrModels)\n",
    "importlib.reload(Point)\n",
    "importlib.reload(RelativeImportance)\n",
    "importlib.reload(Measure)\n",
    "importlib.reload(Generation)"
   ],
   "metadata": {
    "collapsed": false,
    "pycharm": {
     "name": "#%%\n",
     "is_executing": false
    }
   }
  },
  {
   "cell_type": "code",
   "execution_count": 2,
   "outputs": [
    {
     "name": "stdout",
     "text": [
      "Directory ../figures/HDPE already exists replacing files in this notebook\n"
     ],
     "output_type": "stream"
    }
   ],
   "source": [
    "import os\n",
    "dataset_config = config.DatasetConfig(scenario=\"HDPE\", n_instance=1000)\n",
    "\n",
    "assert(dataset_config.scenario == \"HDPE\"\n",
    "      )\n",
    "fig_dir = f\"../figures/{dataset_config.scenario}\"\n",
    "\n",
    "try:\n",
    "    os.mkdir(fig_dir)\n",
    "    print(f\"Directory {fig_dir} created \") \n",
    "except FileExistsError:\n",
    "    print(f\"Directory {fig_dir} already exists replacing files in this notebook\")\n"
   ],
   "metadata": {
    "collapsed": false,
    "pycharm": {
     "name": "#%%\n",
     "is_executing": false
    }
   }
  },
  {
   "cell_type": "code",
   "execution_count": 3,
   "outputs": [],
   "source": [
    "file_name_test = \"../data/\" + dataset_config.scenario+ \"/test_data.txt\"\n",
    "X_test,Y_test = dataset.get_functional_test_data(file_name_test)"
   ],
   "metadata": {
    "collapsed": false,
    "pycharm": {
     "name": "#%%\n",
     "is_executing": false
    }
   }
  },
  {
   "cell_type": "code",
   "execution_count": 4,
   "outputs": [],
   "source": [
    "file_name_train = \"../data/\" + dataset_config.scenario+ \"/train_data.txt\"\n",
    "X_train,Y_train = dataset.get_functional_train_data(file_name_train)"
   ],
   "metadata": {
    "collapsed": false,
    "pycharm": {
     "name": "#%%\n",
     "is_executing": false
    }
   }
  },
  {
   "cell_type": "code",
   "execution_count": 5,
   "outputs": [],
   "source": [
    "random_seed = 1985\n",
    "if dataset_config.scenario == \"HDPE\":\n",
    "    exp_config = config.Config(\n",
    "        model=config.ModelConfig(activation=\"elu\", lr_gen=0.0001, lr_disc=0.0005, dec_gen=0, dec_disc=0, \n",
    "                                 optim_gen=\"Adam\", optim_disc=\"Adam\", z_input_size=1, random_seed=random_seed),\n",
    "        training=config.TrainingConfig(n_epochs=500, batch_size=100, n_samples=50),\n",
    "        dataset=dataset_config,\n",
    "        run=config.RunConfig(save_fig=1)\n",
    "    )  "
   ],
   "metadata": {
    "collapsed": false,
    "pycharm": {
     "name": "#%%\n",
     "is_executing": false
    }
   }
  },
  {
   "cell_type": "code",
   "execution_count": 6,
   "outputs": [
    {
     "name": "stdout",
     "text": [
      "Unstandardized regression coefficient: \n",
      "[ 8.1800e-03  4.0000e-05 -3.7600e-03  1.0773e-01 -3.8700e-02  1.7171e-01\n",
      " -1.7004e-01 -1.3600e-03 -9.0000e-05 -3.7910e-02  2.6697e-01 -1.7640e-02\n",
      " -1.5300e-03  1.4000e-04 -0.0000e+00]\n",
      "normal coefficient: \n",
      "1.34892\n",
      "Standardized regression coefficient: \n",
      "[ 0.23134  0.05512 -0.09117  1.30966 -0.17357  0.31498 -0.19727 -0.04932\n",
      " -0.04644 -0.44258  0.35333 -0.12213 -0.06588  0.09435 -0.00906]\n",
      "normal coefficient: \n",
      "-0.0\n"
     ],
     "output_type": "stream"
    }
   ],
   "source": [
    "coef = sample.get_sta_reg_cov(X_train,Y_train)"
   ],
   "metadata": {
    "collapsed": false,
    "pycharm": {
     "name": "#%%\n",
     "is_executing": false
    }
   }
  },
  {
   "cell_type": "code",
   "execution_count": 7,
   "outputs": [
    {
     "name": "stdout",
     "text": [
      "The importance for every dimension:\n",
      "[0.07555915247981852, 0.106243788125748, 0.1315452535980733, 0.11333353250172547, 0.060343159187365145, 0.022898801792272043, 0.03070757155570007, 0.07277711731849822, 0.07476087048666646, 0.040360742141438796, 0.15456686013486226, 0.021390811548312818, 0.015769859895590637, 0.02195257473534301, 0.057789904498585266]\n"
     ],
     "output_type": "stream"
    }
   ],
   "source": [
    "#if dataset_config.scenario == \"HDPE\":\n",
    "    #imp = RelativeImportance.relativeImp_HDPE()\n",
    "imp = [0.07555915247981852, 0.106243788125748, 0.1315452535980733, 0.11333353250172547, 0.060343159187365145, \n",
    "       0.022898801792272043, 0.03070757155570007, 0.07277711731849822, 0.07476087048666646, 0.040360742141438796, \n",
    "       0.15456686013486226, 0.021390811548312818, 0.015769859895590637, 0.02195257473534301, 0.057789904498585266]\n",
    "#imp = list(imp.values())\n",
    "print(\"The importance for every dimension:\")\n",
    "print(imp)\n",
    "\n",
    "#os.exist(0)"
   ],
   "metadata": {
    "collapsed": false,
    "pycharm": {
     "name": "#%%\n",
     "is_executing": false
    }
   }
  },
  {
   "cell_type": "code",
   "execution_count": 8,
   "outputs": [
    {
     "name": "stdout",
     "text": [
      "Euclidean distance in x domain：\n",
      "minist dist:\n",
      "0.798\n",
      "maxist imp:\n",
      "0.15456686013486226\n",
      "The original length of the smaple: \n",
      "[0.3901  0.54852 0.67914 0.58512 0.31154 0.11822 0.15854 0.37573 0.38598\n",
      " 0.20838 0.798   0.11044 0.08142 0.11334 0.29836]\n"
     ],
     "output_type": "stream"
    }
   ],
   "source": [
    "length, max_dist = sample.get_sample_length(X_train,imp)"
   ],
   "metadata": {
    "collapsed": false,
    "pycharm": {
     "name": "#%%\n",
     "is_executing": false
    }
   }
  },
  {
   "cell_type": "code",
   "execution_count": 9,
   "outputs": [
    {
     "name": "stdout",
     "text": [
      "The value area of x in the sample is between 5.531905 and 5.950476in the dimension of No. 0\n",
      "The value area of x in the sample is between 61.099048 and 83.608571in the dimension of No. 1\n",
      "The value area of x in the sample is between 84.25 and 84.606in the dimension of No. 2\n",
      "The value area of x in the sample is between 0.829524 and 1.0in the dimension of No. 3\n",
      "The value area of x in the sample is between 0.789048 and 0.86in the dimension of No. 4\n",
      "The value area of x in the sample is between 0.242857 and 0.270476in the dimension of No. 5\n",
      "The value area of x in the sample is between 0.214 and 0.231429in the dimension of No. 6\n",
      "The value area of x in the sample is between 76.940952 and 77.463846in the dimension of No. 7\n",
      "The value area of x in the sample is between 44.881905 and 53.608889in the dimension of No. 8\n",
      "The value area of x in the sample is between 0.93 and 1.109524in the dimension of No. 9\n",
      "The value area of x in the sample is between 0.08 and 0.107273in the dimension of No. 10\n",
      "The value area of x in the sample is between 0.2 and 0.4in the dimension of No. 11\n",
      "The value area of x in the sample is between 1.9 and 2.866667in the dimension of No. 12\n",
      "The value area of x in the sample is between 12.095238 and 24.142857in the dimension of No. 13\n",
      "The value area of x in the sample is between 573.454545 and 4243.0in the dimension of No. 14\n",
      "The full length of every dimension:\n",
      "[   0.418571   22.509523    0.356       0.170476    0.070952    0.027619\n",
      "    0.017429    0.522894    8.726984    0.179524    0.027273    0.2\n",
      "    0.966667   12.047619 3669.545455]\n"
     ],
     "output_type": "stream"
    }
   ],
   "source": [
    "x_min = np.amin(X_train, axis=0)\n",
    "x_max = np.amax(X_train, axis=0)\n",
    "L = sample.get_x_len(x_min, x_max)"
   ],
   "metadata": {
    "collapsed": false,
    "pycharm": {
     "name": "#%%\n",
     "is_executing": false
    }
   }
  },
  {
   "cell_type": "code",
   "execution_count": 10,
   "outputs": [
    {
     "name": "stdout",
     "text": [
      "The number of diversions of the 0th dimension is: 2\n",
      "2\n",
      "The number of diversions of the 1th dimension is: 42\n",
      "42\n",
      "The number of diversions of the 2th dimension is: 1\n",
      "1\n",
      "The number of diversions of the 3th dimension is: 1\n",
      "1\n",
      "The number of diversions of the 4th dimension is: 1\n",
      "1\n",
      "The number of diversions of the 5th dimension is: 1\n",
      "1\n",
      "The number of diversions of the 6th dimension is: 1\n",
      "1\n",
      "The number of diversions of the 7th dimension is: 2\n",
      "2\n",
      "The number of diversions of the 8th dimension is: 23\n",
      "23\n",
      "The number of diversions of the 9th dimension is: 1\n",
      "1\n",
      "The number of diversions of the 10th dimension is: 1\n",
      "1\n",
      "The number of diversions of the 11th dimension is: 2\n",
      "2\n",
      "The number of diversions of the 12th dimension is: 12\n",
      "12\n",
      "The number of diversions of the 13th dimension is: 107\n",
      "107\n",
      "The number of diversions of the 14th dimension is: 12300\n",
      "12300\n",
      "总的样方分割数为：\n",
      "122049849600\n",
      "The number of diversions of the 0th dimension is: 1\n",
      "1\n",
      "The number of diversions of the 1th dimension is: 35\n",
      "35\n",
      "The number of diversions of the 2th dimension is: 1\n",
      "1\n",
      "The number of diversions of the 3th dimension is: 1\n",
      "1\n",
      "The number of diversions of the 4th dimension is: 1\n",
      "1\n",
      "The number of diversions of the 5th dimension is: 1\n",
      "1\n",
      "The number of diversions of the 6th dimension is: 1\n",
      "1\n",
      "The number of diversions of the 7th dimension is: 2\n",
      "2\n",
      "The number of diversions of the 8th dimension is: 19\n",
      "19\n",
      "The number of diversions of the 9th dimension is: 1\n",
      "1\n",
      "The number of diversions of the 10th dimension is: 1\n",
      "1\n",
      "The number of diversions of the 11th dimension is: 2\n",
      "2\n",
      "The number of diversions of the 12th dimension is: 10\n",
      "10\n",
      "The number of diversions of the 13th dimension is: 89\n",
      "89\n",
      "The number of diversions of the 14th dimension is: 10250\n",
      "10250\n",
      "总的样方分割数为：\n",
      "24265850000\n",
      "The number of diversions of the 0th dimension is: 1\n",
      "1\n",
      "The number of diversions of the 1th dimension is: 29\n",
      "29\n",
      "The number of diversions of the 2th dimension is: 1\n",
      "1\n",
      "The number of diversions of the 3th dimension is: 1\n",
      "1\n",
      "The number of diversions of the 4th dimension is: 1\n",
      "1\n",
      "The number of diversions of the 5th dimension is: 1\n",
      "1\n",
      "The number of diversions of the 6th dimension is: 1\n",
      "1\n",
      "The number of diversions of the 7th dimension is: 1\n",
      "1\n",
      "The number of diversions of the 8th dimension is: 16\n",
      "16\n",
      "The number of diversions of the 9th dimension is: 1\n",
      "1\n",
      "The number of diversions of the 10th dimension is: 1\n",
      "1\n",
      "The number of diversions of the 11th dimension is: 2\n",
      "2\n",
      "The number of diversions of the 12th dimension is: 9\n",
      "9\n",
      "The number of diversions of the 13th dimension is: 74\n",
      "74\n",
      "The number of diversions of the 14th dimension is: 8542\n",
      "8542\n",
      "总的样方分割数为：\n",
      "5279366016\n",
      "The number of diversions of the 0th dimension is: 1\n",
      "1\n",
      "The number of diversions of the 1th dimension is: 24\n",
      "24\n",
      "The number of diversions of the 2th dimension is: 1\n",
      "1\n",
      "The number of diversions of the 3th dimension is: 1\n",
      "1\n",
      "The number of diversions of the 4th dimension is: 1\n",
      "1\n",
      "The number of diversions of the 5th dimension is: 1\n",
      "1\n",
      "The number of diversions of the 6th dimension is: 1\n",
      "1\n",
      "The number of diversions of the 7th dimension is: 1\n",
      "1\n",
      "The number of diversions of the 8th dimension is: 14\n",
      "14\n",
      "The number of diversions of the 9th dimension is: 1\n",
      "1\n",
      "The number of diversions of the 10th dimension is: 1\n",
      "1\n",
      "The number of diversions of the 11th dimension is: 2\n",
      "2\n",
      "The number of diversions of the 12th dimension is: 7\n",
      "7\n",
      "The number of diversions of the 13th dimension is: 62\n",
      "62\n",
      "The number of diversions of the 14th dimension is: 7118\n",
      "7118\n",
      "总的样方分割数为：\n",
      "2075950464\n",
      "The number of diversions of the 0th dimension is: 1\n",
      "1\n",
      "The number of diversions of the 1th dimension is: 20\n",
      "20\n",
      "The number of diversions of the 2th dimension is: 1\n",
      "1\n",
      "The number of diversions of the 3th dimension is: 1\n",
      "1\n",
      "The number of diversions of the 4th dimension is: 1\n",
      "1\n",
      "The number of diversions of the 5th dimension is: 1\n",
      "1\n",
      "The number of diversions of the 6th dimension is: 1\n",
      "1\n",
      "The number of diversions of the 7th dimension is: 1\n",
      "1\n",
      "The number of diversions of the 8th dimension is: 11\n",
      "11\n",
      "The number of diversions of the 9th dimension is: 1\n",
      "1\n",
      "The number of diversions of the 10th dimension is: 1\n",
      "1\n",
      "The number of diversions of the 11th dimension is: 1\n",
      "1\n",
      "The number of diversions of the 12th dimension is: 6\n",
      "6\n",
      "The number of diversions of the 13th dimension is: 52\n",
      "52\n",
      "The number of diversions of the 14th dimension is: 5932\n",
      "5932\n",
      "总的样方分割数为：\n",
      "407172480\n",
      "The number of diversions of the 0th dimension is: 1\n",
      "1\n",
      "The number of diversions of the 1th dimension is: 17\n",
      "17\n",
      "The number of diversions of the 2th dimension is: 1\n",
      "1\n",
      "The number of diversions of the 3th dimension is: 1\n",
      "1\n",
      "The number of diversions of the 4th dimension is: 1\n",
      "1\n",
      "The number of diversions of the 5th dimension is: 1\n",
      "1\n",
      "The number of diversions of the 6th dimension is: 1\n",
      "1\n",
      "The number of diversions of the 7th dimension is: 1\n",
      "1\n",
      "The number of diversions of the 8th dimension is: 10\n",
      "10\n",
      "The number of diversions of the 9th dimension is: 1\n",
      "1\n",
      "The number of diversions of the 10th dimension is: 1\n",
      "1\n",
      "The number of diversions of the 11th dimension is: 1\n",
      "1\n",
      "The number of diversions of the 12th dimension is: 5\n",
      "5\n",
      "The number of diversions of the 13th dimension is: 43\n",
      "43\n",
      "The number of diversions of the 14th dimension is: 4943\n",
      "4943\n",
      "总的样方分割数为：\n",
      "180666650\n",
      "The number of diversions of the 0th dimension is: 1\n",
      "1\n",
      "The number of diversions of the 1th dimension is: 14\n",
      "14\n",
      "The number of diversions of the 2th dimension is: 1\n",
      "1\n",
      "The number of diversions of the 3th dimension is: 1\n",
      "1\n",
      "The number of diversions of the 4th dimension is: 1\n",
      "1\n",
      "The number of diversions of the 5th dimension is: 1\n",
      "1\n",
      "The number of diversions of the 6th dimension is: 1\n",
      "1\n",
      "The number of diversions of the 7th dimension is: 1\n",
      "1\n",
      "The number of diversions of the 8th dimension is: 8\n",
      "8\n",
      "The number of diversions of the 9th dimension is: 1\n",
      "1\n",
      "The number of diversions of the 10th dimension is: 1\n",
      "1\n",
      "The number of diversions of the 11th dimension is: 1\n",
      "1\n",
      "The number of diversions of the 12th dimension is: 4\n",
      "4\n",
      "The number of diversions of the 13th dimension is: 36\n",
      "36\n",
      "The number of diversions of the 14th dimension is: 4119\n",
      "4119\n",
      "总的样方分割数为：\n",
      "66431232\n",
      "The number of diversions of the 0th dimension is: 1\n",
      "1\n",
      "The number of diversions of the 1th dimension is: 12\n",
      "12\n",
      "The number of diversions of the 2th dimension is: 1\n",
      "1\n",
      "The number of diversions of the 3th dimension is: 1\n",
      "1\n",
      "The number of diversions of the 4th dimension is: 1\n",
      "1\n",
      "The number of diversions of the 5th dimension is: 1\n",
      "1\n",
      "The number of diversions of the 6th dimension is: 1\n",
      "1\n",
      "The number of diversions of the 7th dimension is: 1\n",
      "1\n",
      "The number of diversions of the 8th dimension is: 7\n",
      "7\n",
      "The number of diversions of the 9th dimension is: 1\n",
      "1\n",
      "The number of diversions of the 10th dimension is: 1\n",
      "1\n",
      "The number of diversions of the 11th dimension is: 1\n",
      "1\n",
      "The number of diversions of the 12th dimension is: 4\n",
      "4\n",
      "The number of diversions of the 13th dimension is: 30\n",
      "30\n",
      "The number of diversions of the 14th dimension is: 3433\n",
      "3433\n",
      "总的样方分割数为：\n",
      "34604640\n",
      "The number of diversions of the 0th dimension is: 1\n",
      "1\n",
      "The number of diversions of the 1th dimension is: 10\n",
      "10\n",
      "The number of diversions of the 2th dimension is: 1\n",
      "1\n",
      "The number of diversions of the 3th dimension is: 1\n",
      "1\n",
      "The number of diversions of the 4th dimension is: 1\n",
      "1\n",
      "The number of diversions of the 5th dimension is: 1\n",
      "1\n",
      "The number of diversions of the 6th dimension is: 1\n",
      "1\n",
      "The number of diversions of the 7th dimension is: 1\n",
      "1\n",
      "The number of diversions of the 8th dimension is: 6\n",
      "6\n",
      "The number of diversions of the 9th dimension is: 1\n",
      "1\n",
      "The number of diversions of the 10th dimension is: 1\n",
      "1\n",
      "The number of diversions of the 11th dimension is: 1\n",
      "1\n",
      "The number of diversions of the 12th dimension is: 3\n",
      "3\n",
      "The number of diversions of the 13th dimension is: 25\n",
      "25\n",
      "The number of diversions of the 14th dimension is: 2861\n",
      "2861\n",
      "总的样方分割数为：\n",
      "12874500\n",
      "The number of diversions of the 0th dimension is: 1\n",
      "1\n",
      "The number of diversions of the 1th dimension is: 8\n",
      "8\n",
      "The number of diversions of the 2th dimension is: 1\n",
      "1\n",
      "The number of diversions of the 3th dimension is: 1\n",
      "1\n",
      "The number of diversions of the 4th dimension is: 1\n",
      "1\n",
      "The number of diversions of the 5th dimension is: 1\n",
      "1\n",
      "The number of diversions of the 6th dimension is: 1\n",
      "1\n",
      "The number of diversions of the 7th dimension is: 1\n",
      "1\n",
      "The number of diversions of the 8th dimension is: 5\n",
      "5\n",
      "The number of diversions of the 9th dimension is: 1\n",
      "1\n",
      "The number of diversions of the 10th dimension is: 1\n",
      "1\n",
      "The number of diversions of the 11th dimension is: 1\n",
      "1\n",
      "The number of diversions of the 12th dimension is: 3\n",
      "3\n",
      "The number of diversions of the 13th dimension is: 21\n",
      "21\n",
      "The number of diversions of the 14th dimension is: 2384\n",
      "2384\n",
      "总的样方分割数为：\n",
      "6007680\n",
      "The number of diversions of the 0th dimension is: 1\n",
      "1\n",
      "The number of diversions of the 1th dimension is: 7\n",
      "7\n",
      "The number of diversions of the 2th dimension is: 1\n",
      "1\n",
      "The number of diversions of the 3th dimension is: 1\n",
      "1\n",
      "The number of diversions of the 4th dimension is: 1\n",
      "1\n",
      "The number of diversions of the 5th dimension is: 1\n",
      "1\n",
      "The number of diversions of the 6th dimension is: 1\n",
      "1\n",
      "The number of diversions of the 7th dimension is: 1\n",
      "1\n",
      "The number of diversions of the 8th dimension is: 4\n",
      "4\n",
      "The number of diversions of the 9th dimension is: 1\n",
      "1\n",
      "The number of diversions of the 10th dimension is: 1\n",
      "1\n",
      "The number of diversions of the 11th dimension is: 1\n",
      "1\n",
      "The number of diversions of the 12th dimension is: 2\n",
      "2\n",
      "The number of diversions of the 13th dimension is: 18\n",
      "18\n",
      "The number of diversions of the 14th dimension is: 1987\n",
      "1987\n",
      "总的样方分割数为：\n",
      "2002896\n",
      "The number of diversions of the 0th dimension is: 1\n",
      "1\n",
      "The number of diversions of the 1th dimension is: 6\n",
      "6\n",
      "The number of diversions of the 2th dimension is: 1\n",
      "1\n",
      "The number of diversions of the 3th dimension is: 1\n",
      "1\n",
      "The number of diversions of the 4th dimension is: 1\n",
      "1\n",
      "The number of diversions of the 5th dimension is: 1\n",
      "1\n",
      "The number of diversions of the 6th dimension is: 1\n",
      "1\n",
      "The number of diversions of the 7th dimension is: 1\n",
      "1\n",
      "The number of diversions of the 8th dimension is: 4\n",
      "4\n",
      "The number of diversions of the 9th dimension is: 1\n",
      "1\n",
      "The number of diversions of the 10th dimension is: 1\n",
      "1\n",
      "The number of diversions of the 11th dimension is: 1\n",
      "1\n",
      "The number of diversions of the 12th dimension is: 2\n",
      "2\n",
      "The number of diversions of the 13th dimension is: 15\n",
      "15\n",
      "The number of diversions of the 14th dimension is: 1656\n",
      "1656\n",
      "总的样方分割数为：\n",
      "1192320\n",
      "The number of diversions of the 0th dimension is: 1\n",
      "1\n",
      "The number of diversions of the 1th dimension is: 5\n",
      "5\n",
      "The number of diversions of the 2th dimension is: 1\n",
      "1\n",
      "The number of diversions of the 3th dimension is: 1\n",
      "1\n",
      "The number of diversions of the 4th dimension is: 1\n",
      "1\n",
      "The number of diversions of the 5th dimension is: 1\n",
      "1\n",
      "The number of diversions of the 6th dimension is: 1\n",
      "1\n",
      "The number of diversions of the 7th dimension is: 1\n",
      "1\n",
      "The number of diversions of the 8th dimension is: 3\n",
      "3\n",
      "The number of diversions of the 9th dimension is: 1\n",
      "1\n",
      "The number of diversions of the 10th dimension is: 1\n",
      "1\n",
      "The number of diversions of the 11th dimension is: 1\n",
      "1\n",
      "The number of diversions of the 12th dimension is: 2\n",
      "2\n",
      "The number of diversions of the 13th dimension is: 12\n",
      "12\n",
      "The number of diversions of the 14th dimension is: 1380\n",
      "1380\n",
      "总的样方分割数为：\n",
      "496800\n",
      "The number of diversions of the 0th dimension is: 1\n",
      "1\n",
      "The number of diversions of the 1th dimension is: 4\n",
      "4\n",
      "The number of diversions of the 2th dimension is: 1\n",
      "1\n",
      "The number of diversions of the 3th dimension is: 1\n",
      "1\n",
      "The number of diversions of the 4th dimension is: 1\n",
      "1\n",
      "The number of diversions of the 5th dimension is: 1\n",
      "1\n",
      "The number of diversions of the 6th dimension is: 1\n",
      "1\n",
      "The number of diversions of the 7th dimension is: 1\n",
      "1\n",
      "The number of diversions of the 8th dimension is: 3\n",
      "3\n",
      "The number of diversions of the 9th dimension is: 1\n",
      "1\n",
      "The number of diversions of the 10th dimension is: 1\n",
      "1\n",
      "The number of diversions of the 11th dimension is: 1\n",
      "1\n",
      "The number of diversions of the 12th dimension is: 2\n",
      "2\n",
      "The number of diversions of the 13th dimension is: 10\n",
      "10\n",
      "The number of diversions of the 14th dimension is: 1150\n",
      "1150\n",
      "总的样方分割数为：\n",
      "276000\n",
      "The number of diversions of the 0th dimension is: 1\n",
      "1\n",
      "The number of diversions of the 1th dimension is: 4\n",
      "4\n",
      "The number of diversions of the 2th dimension is: 1\n",
      "1\n",
      "The number of diversions of the 3th dimension is: 1\n",
      "1\n",
      "The number of diversions of the 4th dimension is: 1\n",
      "1\n",
      "The number of diversions of the 5th dimension is: 1\n",
      "1\n",
      "The number of diversions of the 6th dimension is: 1\n",
      "1\n",
      "The number of diversions of the 7th dimension is: 1\n",
      "1\n",
      "The number of diversions of the 8th dimension is: 2\n",
      "2\n",
      "The number of diversions of the 9th dimension is: 1\n",
      "1\n",
      "The number of diversions of the 10th dimension is: 1\n",
      "1\n",
      "The number of diversions of the 11th dimension is: 1\n",
      "1\n",
      "The number of diversions of the 12th dimension is: 1\n",
      "1\n",
      "The number of diversions of the 13th dimension is: 9\n",
      "9\n",
      "The number of diversions of the 14th dimension is: 958\n",
      "958\n",
      "总的样方分割数为：\n",
      "68976\n",
      "The number of diversions of the 0th dimension is: 1\n",
      "1\n",
      "The number of diversions of the 1th dimension is: 3\n",
      "3\n",
      "The number of diversions of the 2th dimension is: 1\n",
      "1\n",
      "The number of diversions of the 3th dimension is: 1\n",
      "1\n",
      "The number of diversions of the 4th dimension is: 1\n",
      "1\n",
      "The number of diversions of the 5th dimension is: 1\n",
      "1\n",
      "The number of diversions of the 6th dimension is: 1\n",
      "1\n",
      "The number of diversions of the 7th dimension is: 1\n",
      "1\n",
      "The number of diversions of the 8th dimension is: 2\n",
      "2\n",
      "The number of diversions of the 9th dimension is: 1\n",
      "1\n",
      "The number of diversions of the 10th dimension is: 1\n",
      "1\n",
      "The number of diversions of the 11th dimension is: 1\n",
      "1\n",
      "The number of diversions of the 12th dimension is: 1\n",
      "1\n",
      "The number of diversions of the 13th dimension is: 7\n",
      "7\n",
      "The number of diversions of the 14th dimension is: 799\n",
      "799\n",
      "总的样方分割数为：\n",
      "33558\n",
      "The number of diversions of the 0th dimension is: 1\n",
      "1\n",
      "The number of diversions of the 1th dimension is: 3\n",
      "3\n",
      "The number of diversions of the 2th dimension is: 1\n",
      "1\n",
      "The number of diversions of the 3th dimension is: 1\n",
      "1\n",
      "The number of diversions of the 4th dimension is: 1\n",
      "1\n",
      "The number of diversions of the 5th dimension is: 1\n",
      "1\n",
      "The number of diversions of the 6th dimension is: 1\n",
      "1\n",
      "The number of diversions of the 7th dimension is: 1\n",
      "1\n",
      "The number of diversions of the 8th dimension is: 2\n",
      "2\n",
      "The number of diversions of the 9th dimension is: 1\n",
      "1\n",
      "The number of diversions of the 10th dimension is: 1\n",
      "1\n",
      "The number of diversions of the 11th dimension is: 1\n",
      "1\n",
      "The number of diversions of the 12th dimension is: 1\n",
      "1\n",
      "The number of diversions of the 13th dimension is: 6\n",
      "6\n",
      "The number of diversions of the 14th dimension is: 666\n",
      "666\n",
      "总的样方分割数为：\n",
      "23976\n",
      "The number of diversions of the 0th dimension is: 1\n",
      "1\n",
      "The number of diversions of the 1th dimension is: 2\n",
      "2\n",
      "The number of diversions of the 2th dimension is: 1\n",
      "1\n",
      "The number of diversions of the 3th dimension is: 1\n",
      "1\n",
      "The number of diversions of the 4th dimension is: 1\n",
      "1\n",
      "The number of diversions of the 5th dimension is: 1\n",
      "1\n",
      "The number of diversions of the 6th dimension is: 1\n",
      "1\n",
      "The number of diversions of the 7th dimension is: 1\n",
      "1\n",
      "The number of diversions of the 8th dimension is: 2\n",
      "2\n",
      "The number of diversions of the 9th dimension is: 1\n",
      "1\n",
      "The number of diversions of the 10th dimension is: 1\n",
      "1\n",
      "The number of diversions of the 11th dimension is: 1\n",
      "1\n",
      "The number of diversions of the 12th dimension is: 1\n",
      "1\n",
      "The number of diversions of the 13th dimension is: 5\n",
      "5\n",
      "The number of diversions of the 14th dimension is: 555\n",
      "555\n",
      "总的样方分割数为：\n",
      "11100\n",
      "The number of diversions of the 0th dimension is: 1\n",
      "1\n",
      "The number of diversions of the 1th dimension is: 2\n",
      "2\n",
      "The number of diversions of the 2th dimension is: 1\n",
      "1\n",
      "The number of diversions of the 3th dimension is: 1\n",
      "1\n",
      "The number of diversions of the 4th dimension is: 1\n",
      "1\n",
      "The number of diversions of the 5th dimension is: 1\n",
      "1\n",
      "The number of diversions of the 6th dimension is: 1\n",
      "1\n",
      "The number of diversions of the 7th dimension is: 1\n",
      "1\n",
      "The number of diversions of the 8th dimension is: 1\n",
      "1\n",
      "The number of diversions of the 9th dimension is: 1\n",
      "1\n",
      "The number of diversions of the 10th dimension is: 1\n",
      "1\n",
      "The number of diversions of the 11th dimension is: 1\n",
      "1\n",
      "The number of diversions of the 12th dimension is: 1\n",
      "1\n",
      "The number of diversions of the 13th dimension is: 4\n",
      "4\n",
      "The number of diversions of the 14th dimension is: 462\n",
      "462\n",
      "总的样方分割数为：\n",
      "3696\n",
      "The number of diversions of the 0th dimension is: 1\n",
      "1\n",
      "The number of diversions of the 1th dimension is: 2\n",
      "2\n",
      "The number of diversions of the 2th dimension is: 1\n",
      "1\n",
      "The number of diversions of the 3th dimension is: 1\n",
      "1\n",
      "The number of diversions of the 4th dimension is: 1\n",
      "1\n",
      "The number of diversions of the 5th dimension is: 1\n",
      "1\n",
      "The number of diversions of the 6th dimension is: 1\n",
      "1\n",
      "The number of diversions of the 7th dimension is: 1\n",
      "1\n",
      "The number of diversions of the 8th dimension is: 1\n",
      "1\n",
      "The number of diversions of the 9th dimension is: 1\n",
      "1\n",
      "The number of diversions of the 10th dimension is: 1\n",
      "1\n",
      "The number of diversions of the 11th dimension is: 1\n",
      "1\n",
      "The number of diversions of the 12th dimension is: 1\n",
      "1\n",
      "The number of diversions of the 13th dimension is: 4\n",
      "4\n",
      "The number of diversions of the 14th dimension is: 385\n",
      "385\n",
      "总的样方分割数为：\n",
      "3080\n",
      "The number of diversions of the 0th dimension is: 1\n",
      "1\n",
      "The number of diversions of the 1th dimension is: 2\n",
      "2\n",
      "The number of diversions of the 2th dimension is: 1\n",
      "1\n",
      "The number of diversions of the 3th dimension is: 1\n",
      "1\n",
      "The number of diversions of the 4th dimension is: 1\n",
      "1\n",
      "The number of diversions of the 5th dimension is: 1\n",
      "1\n",
      "The number of diversions of the 6th dimension is: 1\n",
      "1\n",
      "The number of diversions of the 7th dimension is: 1\n",
      "1\n",
      "The number of diversions of the 8th dimension is: 1\n",
      "1\n",
      "The number of diversions of the 9th dimension is: 1\n",
      "1\n",
      "The number of diversions of the 10th dimension is: 1\n",
      "1\n",
      "The number of diversions of the 11th dimension is: 1\n",
      "1\n",
      "The number of diversions of the 12th dimension is: 1\n",
      "1\n",
      "The number of diversions of the 13th dimension is: 3\n",
      "3\n",
      "The number of diversions of the 14th dimension is: 321\n",
      "321\n",
      "总的样方分割数为：\n",
      "1926\n",
      "The number of diversions of the 0th dimension is: 1\n",
      "1\n",
      "The number of diversions of the 1th dimension is: 1\n",
      "1\n",
      "The number of diversions of the 2th dimension is: 1\n",
      "1\n",
      "The number of diversions of the 3th dimension is: 1\n",
      "1\n",
      "The number of diversions of the 4th dimension is: 1\n",
      "1\n",
      "The number of diversions of the 5th dimension is: 1\n",
      "1\n",
      "The number of diversions of the 6th dimension is: 1\n",
      "1\n",
      "The number of diversions of the 7th dimension is: 1\n",
      "1\n",
      "The number of diversions of the 8th dimension is: 1\n",
      "1\n",
      "The number of diversions of the 9th dimension is: 1\n",
      "1\n",
      "The number of diversions of the 10th dimension is: 1\n",
      "1\n",
      "The number of diversions of the 11th dimension is: 1\n",
      "1\n",
      "The number of diversions of the 12th dimension is: 1\n",
      "1\n",
      "The number of diversions of the 13th dimension is: 3\n",
      "3\n",
      "The number of diversions of the 14th dimension is: 268\n",
      "268\n",
      "总的样方分割数为：\n",
      "804\n",
      "The number of diversions of the 0th dimension is: 1\n",
      "1\n",
      "The number of diversions of the 1th dimension is: 1\n",
      "1\n",
      "The number of diversions of the 2th dimension is: 1\n",
      "1\n",
      "The number of diversions of the 3th dimension is: 1\n",
      "1\n",
      "The number of diversions of the 4th dimension is: 1\n",
      "1\n",
      "The number of diversions of the 5th dimension is: 1\n",
      "1\n",
      "The number of diversions of the 6th dimension is: 1\n",
      "1\n",
      "The number of diversions of the 7th dimension is: 1\n",
      "1\n",
      "The number of diversions of the 8th dimension is: 1\n",
      "1\n",
      "The number of diversions of the 9th dimension is: 1\n",
      "1\n",
      "The number of diversions of the 10th dimension is: 1\n",
      "1\n",
      "The number of diversions of the 11th dimension is: 1\n",
      "1\n",
      "The number of diversions of the 12th dimension is: 1\n",
      "1\n",
      "The number of diversions of the 13th dimension is: 2\n",
      "2\n",
      "The number of diversions of the 14th dimension is: 223\n",
      "223\n",
      "总的样方分割数为：\n",
      "446\n",
      "The number of diversions of the 0th dimension is: 1\n",
      "1\n",
      "The number of diversions of the 1th dimension is: 1\n",
      "1\n",
      "The number of diversions of the 2th dimension is: 1\n",
      "1\n",
      "The number of diversions of the 3th dimension is: 1\n",
      "1\n",
      "The number of diversions of the 4th dimension is: 1\n",
      "1\n",
      "The number of diversions of the 5th dimension is: 1\n",
      "1\n",
      "The number of diversions of the 6th dimension is: 1\n",
      "1\n",
      "The number of diversions of the 7th dimension is: 1\n",
      "1\n",
      "The number of diversions of the 8th dimension is: 1\n",
      "1\n",
      "The number of diversions of the 9th dimension is: 1\n",
      "1\n",
      "The number of diversions of the 10th dimension is: 1\n",
      "1\n",
      "The number of diversions of the 11th dimension is: 1\n",
      "1\n",
      "The number of diversions of the 12th dimension is: 1\n",
      "1\n",
      "The number of diversions of the 13th dimension is: 2\n",
      "2\n",
      "The number of diversions of the 14th dimension is: 186\n",
      "186\n",
      "总的样方分割数为：\n",
      "372\n",
      "The number of diversions of the 0th dimension is: 1\n",
      "1\n",
      "The number of diversions of the 1th dimension is: 1\n",
      "1\n",
      "The number of diversions of the 2th dimension is: 1\n",
      "1\n",
      "The number of diversions of the 3th dimension is: 1\n",
      "1\n",
      "The number of diversions of the 4th dimension is: 1\n",
      "1\n",
      "The number of diversions of the 5th dimension is: 1\n",
      "1\n",
      "The number of diversions of the 6th dimension is: 1\n",
      "1\n",
      "The number of diversions of the 7th dimension is: 1\n",
      "1\n",
      "The number of diversions of the 8th dimension is: 1\n",
      "1\n",
      "The number of diversions of the 9th dimension is: 1\n",
      "1\n",
      "The number of diversions of the 10th dimension is: 1\n",
      "1\n",
      "The number of diversions of the 11th dimension is: 1\n",
      "1\n",
      "The number of diversions of the 12th dimension is: 1\n",
      "1\n",
      "The number of diversions of the 13th dimension is: 2\n",
      "2\n",
      "The number of diversions of the 14th dimension is: 155\n",
      "155\n",
      "总的样方分割数为：\n",
      "310\n",
      "The number of diversions of the 0th dimension is: 1\n",
      "1\n",
      "The number of diversions of the 1th dimension is: 1\n",
      "1\n",
      "The number of diversions of the 2th dimension is: 1\n",
      "1\n",
      "The number of diversions of the 3th dimension is: 1\n",
      "1\n",
      "The number of diversions of the 4th dimension is: 1\n",
      "1\n",
      "The number of diversions of the 5th dimension is: 1\n",
      "1\n",
      "The number of diversions of the 6th dimension is: 1\n",
      "1\n",
      "The number of diversions of the 7th dimension is: 1\n",
      "1\n",
      "The number of diversions of the 8th dimension is: 1\n",
      "1\n",
      "The number of diversions of the 9th dimension is: 1\n",
      "1\n",
      "The number of diversions of the 10th dimension is: 1\n",
      "1\n",
      "The number of diversions of the 11th dimension is: 1\n",
      "1\n",
      "The number of diversions of the 12th dimension is: 1\n",
      "1\n",
      "The number of diversions of the 13th dimension is: 2\n",
      "2\n",
      "The number of diversions of the 14th dimension is: 129\n",
      "129\n",
      "总的样方分割数为：\n",
      "258\n",
      "分割数：\n",
      "[  1   1   1   1   1   1   1   1   1   1   1   1   1   2 129]\n",
      "样方的大小：\n",
      "[37.21406411 52.32673275 64.78738657 55.81823428 29.71973733 11.27774073\n",
      " 15.12411619 35.84322048 36.8210317  19.87866362 76.12618088 10.53555817\n",
      "  7.76715996 10.81220719 28.4624152 ]\n"
     ],
     "output_type": "stream"
    }
   ],
   "source": [
    "n_sample,length = sample.divide_sample(length, L, 300)"
   ],
   "metadata": {
    "collapsed": false,
    "pycharm": {
     "name": "#%%\n",
     "is_executing": false
    }
   }
  },
  {
   "cell_type": "code",
   "execution_count": 11,
   "outputs": [
    {
     "name": "stdout",
     "text": [
      "第0维度，最小的x为5.531905\n",
      "第0维度的中心值有：\n",
      "[24.13894]\n",
      "第1维度，最小的x为61.099048\n",
      "第1维度的中心值有：\n",
      "[87.26241]\n",
      "第2维度，最小的x为84.25\n",
      "第2维度的中心值有：\n",
      "[116.64369]\n",
      "第3维度，最小的x为0.829524\n",
      "第3维度的中心值有：\n",
      "[28.73864]\n",
      "第4维度，最小的x为0.789048\n",
      "第4维度的中心值有：\n",
      "[15.64892]\n",
      "第5维度，最小的x为0.242857\n",
      "第5维度的中心值有：\n",
      "[5.88173]\n",
      "第6维度，最小的x为0.214\n",
      "第6维度的中心值有：\n",
      "[7.77606]\n",
      "第7维度，最小的x为76.940952\n",
      "第7维度的中心值有：\n",
      "[94.86256]\n",
      "第8维度，最小的x为44.881905\n",
      "第8维度的中心值有：\n",
      "[63.29242]\n",
      "第9维度，最小的x为0.93\n",
      "第9维度的中心值有：\n",
      "[10.86933]\n",
      "第10维度，最小的x为0.08\n",
      "第10维度的中心值有：\n",
      "[38.14309]\n",
      "第11维度，最小的x为0.2\n",
      "第11维度的中心值有：\n",
      "[5.46778]\n",
      "第12维度，最小的x为1.9\n",
      "第12维度的中心值有：\n",
      "[5.78358]\n",
      "第13维度，最小的x为12.095238\n",
      "第13维度的中心值有：\n",
      "[17.50134, 28.31355]\n",
      "第14维度，最小的x为573.454545\n",
      "第14维度的中心值有：\n",
      "[587.68575, 616.14817, 644.61058, 673.073, 701.53541, 729.99783, 758.46024, 786.92266, 815.38507, 843.84749, 872.3099, 900.77232, 929.23473, 957.69715, 986.15957, 1014.62198, 1043.0844, 1071.54681, 1100.00923, 1128.47164, 1156.93406, 1185.39647, 1213.85889, 1242.3213, 1270.78372, 1299.24613, 1327.70855, 1356.17096, 1384.63338, 1413.09579, 1441.55821, 1470.02062, 1498.48304, 1526.94545, 1555.40787, 1583.87028, 1612.3327, 1640.79511, 1669.25753, 1697.71995, 1726.18236, 1754.64478, 1783.10719, 1811.56961, 1840.03202, 1868.49444, 1896.95685, 1925.41927, 1953.88168, 1982.3441, 2010.80651, 2039.26893, 2067.73134, 2096.19376, 2124.65617, 2153.11859, 2181.581, 2210.04342, 2238.50583, 2266.96825, 2295.43066, 2323.89308, 2352.35549, 2380.81791, 2409.28033, 2437.74274, 2466.20516, 2494.66757, 2523.12999, 2551.5924, 2580.05482, 2608.51723, 2636.97965, 2665.44206, 2693.90448, 2722.36689, 2750.82931, 2779.29172, 2807.75414, 2836.21655, 2864.67897, 2893.14138, 2921.6038, 2950.06621, 2978.52863, 3006.99104, 3035.45346, 3063.91587, 3092.37829, 3120.84071, 3149.30312, 3177.76554, 3206.22795, 3234.69037, 3263.15278, 3291.6152, 3320.07761, 3348.54003, 3377.00244, 3405.46486, 3433.92727, 3462.38969, 3490.8521, 3519.31452, 3547.77693, 3576.23935, 3604.70176, 3633.16418, 3661.62659, 3690.08901, 3718.55142, 3747.01384, 3775.47625, 3803.93867, 3832.40109, 3860.8635, 3889.32592, 3917.78833, 3946.25075, 3974.71316, 4003.17558, 4031.63799, 4060.10041, 4088.56282, 4117.02524, 4145.48765, 4173.95007, 4202.41248, 4230.8749]\n"
     ],
     "output_type": "stream"
    }
   ],
   "source": [
    "dim = len(X_train[0])\n",
    "gen_x = sample.gen_x_center(dim,length,n_sample, x_min)"
   ],
   "metadata": {
    "collapsed": false,
    "pycharm": {
     "name": "#%%\n",
     "is_executing": false
    }
   }
  },
  {
   "cell_type": "code",
   "execution_count": 12,
   "outputs": [
    {
     "name": "stdout",
     "text": [
      "样方中心点：\n"
     ],
     "output_type": "stream"
    }
   ],
   "source": [
    "gen_sample_point = sample.gen_product2(gen_x)\n",
    "print(\"样方中心点：\")\n",
    "gen_sample_point = np.array(gen_sample_point)\n",
    "#print(gen_sample_point)"
   ],
   "metadata": {
    "collapsed": false,
    "pycharm": {
     "name": "#%%\n",
     "is_executing": false
    }
   }
  },
  {
   "cell_type": "code",
   "execution_count": 13,
   "outputs": [
    {
     "name": "stdout",
     "text": [
      "over\n"
     ],
     "output_type": "stream"
    }
   ],
   "source": [
    "xlimit = []\n",
    "for index in range(len(n_sample)):\n",
    "    l = []\n",
    "    for i in range(n_sample[index]):\n",
    "        x = x_min[index] + i * length[index]\n",
    "        l.append(x)\n",
    "    l.append(x_min[index] + n_sample[index] * length[index])\n",
    "    xlimit.append(l)\n",
    "print(\"over\")"
   ],
   "metadata": {
    "collapsed": false,
    "pycharm": {
     "name": "#%%\n",
     "is_executing": false
    }
   }
  },
  {
   "cell_type": "code",
   "execution_count": 14,
   "outputs": [],
   "source": [
    "sample_list = []\n",
    "xlim_list = []"
   ],
   "metadata": {
    "collapsed": false,
    "pycharm": {
     "name": "#%%\n",
     "is_executing": false
    }
   }
  },
  {
   "cell_type": "code",
   "execution_count": 15,
   "outputs": [
    {
     "name": "stdout",
     "text": [
      "over\n"
     ],
     "output_type": "stream"
    }
   ],
   "source": [
    "x_value = []\n",
    "for index in range(dim):\n",
    "    xl = []\n",
    "    for i in range(len(X_train)):\n",
    "        x = X_train[i][index]\n",
    "        r = 0\n",
    "        for xi in xl:\n",
    "            if xi == x:\n",
    "                r = 1\n",
    "        if r == 0:\n",
    "            xl.append(x)\n",
    "    x_value.append(xl)\n",
    "    \n",
    "x_value_ori = copy.deepcopy(x_value)\n",
    "print(\"over\")"
   ],
   "metadata": {
    "collapsed": false,
    "pycharm": {
     "name": "#%%\n",
     "is_executing": false
    }
   }
  },
  {
   "cell_type": "code",
   "execution_count": 16,
   "outputs": [
    {
     "name": "stdout",
     "text": [
      "over\n"
     ],
     "output_type": "stream"
    }
   ],
   "source": [
    "XLim.con_s(gen_sample_point, sample_list, dim, xlimit)\n",
    "print(\"over\")"
   ],
   "metadata": {
    "collapsed": false,
    "pycharm": {
     "name": "#%%\n",
     "is_executing": false
    }
   }
  },
  {
   "cell_type": "code",
   "execution_count": 17,
   "outputs": [
    {
     "name": "stdout",
     "text": [
      "over\n"
     ],
     "output_type": "stream"
    }
   ],
   "source": [
    "XLim.con_sample(xlim_list, length, x_min, dim, n_sample)\n",
    "print(\"over\")"
   ],
   "metadata": {
    "collapsed": false,
    "pycharm": {
     "name": "#%%\n",
     "is_executing": false
    }
   }
  },
  {
   "cell_type": "code",
   "execution_count": 18,
   "outputs": [
    {
     "name": "stdout",
     "text": [
      "over\n"
     ],
     "output_type": "stream"
    }
   ],
   "source": [
    "XLim.sample_feature(xlim_list, sample_list, x_value)\n",
    "print(\"over\")"
   ],
   "metadata": {
    "collapsed": false,
    "pycharm": {
     "name": "#%%\n",
     "is_executing": false
    }
   }
  },
  {
   "cell_type": "code",
   "execution_count": 19,
   "outputs": [],
   "source": [
    "XLim.add_xvalue(xlim_list)\n",
    "#os.exist(0)"
   ],
   "metadata": {
    "collapsed": false,
    "pycharm": {
     "name": "#%%\n",
     "is_executing": false
    }
   }
  },
  {
   "cell_type": "code",
   "execution_count": 20,
   "outputs": [],
   "source": [
    "x_com, x_add = Generation.get_x_com(X_train, dim, x_value, x_value_ori)"
   ],
   "metadata": {
    "collapsed": false,
    "pycharm": {
     "name": "#%%\n",
     "is_executing": false
    }
   }
  },
  {
   "cell_type": "code",
   "execution_count": 21,
   "outputs": [],
   "source": [
    "E_dist = Generation.E_dist(x_com)\n",
    "#os.exist(0)"
   ],
   "metadata": {
    "collapsed": false,
    "pycharm": {
     "name": "#%%\n",
     "is_executing": false
    }
   }
  },
  {
   "cell_type": "code",
   "execution_count": 22,
   "outputs": [
    {
     "name": "stdout",
     "text": [
      "over\n"
     ],
     "output_type": "stream"
    }
   ],
   "source": [
    "gen_x = []\n",
    "discard_list = []\n",
    "Generation.gen_x_sample2(sample_list, gen_x, dim, x_max, x_min, n_sample, X_train)\n",
    "#gen_x_cross = sample.gen_product(x_value)\n",
    "print(\"over\")"
   ],
   "metadata": {
    "collapsed": false,
    "pycharm": {
     "name": "#%%\n",
     "is_executing": false
    }
   }
  },
  {
   "cell_type": "code",
   "execution_count": 23,
   "outputs": [
    {
     "name": "stdout",
     "text": [
      "over\n"
     ],
     "output_type": "stream"
    }
   ],
   "source": [
    "plot_xlim = copy.deepcopy(xlimit)\n",
    "for index in range(dim):\n",
    "    i = len(plot_xlim[index])\n",
    "    plot_xlim[index][i-1] = x_max[index]\n",
    "print(\"over\")        "
   ],
   "metadata": {
    "collapsed": false,
    "pycharm": {
     "name": "#%%\n",
     "is_executing": false
    }
   }
  },
  {
   "cell_type": "code",
   "execution_count": 24,
   "outputs": [],
   "source": [
    "gen_x_checked = []\n",
    "XLim.check2(sample_list, xlim_list, gen_x_checked, discard_list, gen_x)\n",
    "XLim.sample_attri(sample_list, X_train, gen_x_checked, Y_train)\n",
    "XLim.xl_attri(xlim_list, X_train, gen_x_checked)\n",
    "gen_x = np.array(gen_x)"
   ],
   "metadata": {
    "collapsed": false,
    "pycharm": {
     "name": "#%%\n",
     "is_executing": false
    }
   }
  },
  {
   "cell_type": "code",
   "execution_count": 25,
   "outputs": [
    {
     "name": "stderr",
     "text": [
      " D:\\CondaEnv\\netSVGpython36\\lib\\site-packages\\GPy\\core\\gp.py:87: UserWarning:Your kernel has a different input dimension 12 then the given X dimension 15. Be very sure this is what you want and you have not forgotten to set the right input dimenion in your kernel\n"
     ],
     "output_type": "stream"
    },
    {
     "data": {
      "text/plain": "HBox(children=(VBox(children=(IntProgress(value=0, max=1000), HTML(value=''))), Box(children=(HTML(value=''),)…",
      "application/vnd.jupyter.widget-view+json": {
       "version_major": 2,
       "version_minor": 0,
       "model_id": "19238734df83482db0d58ea529ca2009"
      }
     },
     "metadata": {},
     "output_type": "display_data"
    },
    {
     "name": "stdout",
     "text": [
      "over\n"
     ],
     "output_type": "stream"
    }
   ],
   "source": [
    "import GPy\n",
    "\n",
    "noise = 0.5\n",
    "length_ = 0.5\n",
    "noise_var = exp_config.model.z_input_size\n",
    "run_hyperopt_search = True\n",
    "\n",
    "kernel = GPy.kern.RBF(input_dim=12, variance=noise, lengthscale=length_)\n",
    "gpr = GPy.models.GPRegression(X_train, Y_train.reshape(-1,1), kernel, noise_var=noise_var)\n",
    "if run_hyperopt_search:\n",
    "    gpr.optimize(messages=True) \n",
    "print(\"over\")"
   ],
   "metadata": {
    "collapsed": false,
    "pycharm": {
     "name": "#%%\n",
     "is_executing": false
    }
   }
  },
  {
   "cell_type": "code",
   "execution_count": 26,
   "outputs": [
    {
     "name": "stdout",
     "text": [
      "over\n"
     ],
     "output_type": "stream"
    }
   ],
   "source": [
    "gen_y_cross, cov_train_cross = gpr.predict(gen_x)\n",
    "print(\"over\")"
   ],
   "metadata": {
    "collapsed": false,
    "pycharm": {
     "name": "#%%\n",
     "is_executing": false
    }
   }
  },
  {
   "cell_type": "code",
   "execution_count": 27,
   "outputs": [
    {
     "name": "stdout",
     "text": [
      "over\n"
     ],
     "output_type": "stream"
    }
   ],
   "source": [
    "XLim.add_y(sample_list, gpr)\n",
    "print(\"over\")"
   ],
   "metadata": {
    "collapsed": false,
    "pycharm": {
     "name": "#%%\n",
     "is_executing": false
    }
   }
  },
  {
   "cell_type": "code",
   "execution_count": 28,
   "outputs": [
    {
     "name": "stdout",
     "text": [
      "over\n"
     ],
     "output_type": "stream"
    }
   ],
   "source": [
    "point_list = []\n",
    "Point.con_point(gen_x, gen_y_cross, point_list)\n",
    "print(\"over\")"
   ],
   "metadata": {
    "collapsed": false,
    "pycharm": {
     "name": "#%%\n",
     "is_executing": false
    }
   }
  },
  {
   "cell_type": "code",
   "execution_count": 29,
   "outputs": [
    {
     "name": "stdout",
     "text": [
      "over\n"
     ],
     "output_type": "stream"
    }
   ],
   "source": [
    "for sample in sample_list:\n",
    "    for index in range(len(sample.gen_xlist)):\n",
    "        for point in point_list:\n",
    "            r = -1\n",
    "            for i in range(dim):\n",
    "                if point.x[i] != sample.gen_xlist[index][i]:\n",
    "                    r = 0\n",
    "                    break\n",
    "            if r == -1:\n",
    "                sample.points.append(point)\n",
    "print(\"over\")"
   ],
   "metadata": {
    "collapsed": false,
    "pycharm": {
     "name": "#%%\n",
     "is_executing": false
    }
   }
  },
  {
   "cell_type": "code",
   "execution_count": 30,
   "outputs": [
    {
     "name": "stdout",
     "text": [
      "                         QuantReg Regression Results                          \n",
      "==============================================================================\n",
      "Dep. Variable:                      y   Pseudo R-squared:               0.8819\n",
      "Model:                       QuantReg   Bandwidth:                   0.0004652\n",
      "Method:                 Least Squares   Sparsity:                     0.001371\n",
      "Date:                Mon, 26 Oct 2020   No. Observations:                  150\n",
      "Time:                        10:28:33   Df Residuals:                      134\n",
      "                                        Df Model:                           15\n",
      "==============================================================================\n",
      "                 coef    std err          t      P>|t|      [0.025      0.975]\n",
      "------------------------------------------------------------------------------\n",
      "const          0.0507      0.280      0.181      0.857      -0.504       0.605\n",
      "x1             0.0281      0.005      6.040      0.000       0.019       0.037\n",
      "x2          5.096e-05   2.52e-05      2.024      0.045    1.15e-06       0.000\n",
      "x3             0.0104      0.003      3.667      0.000       0.005       0.016\n",
      "x4             0.1650      0.022      7.458      0.000       0.121       0.209\n",
      "x5            -0.0891      0.035     -2.583      0.011      -0.157      -0.021\n",
      "x6             0.1007      0.061      1.661      0.099      -0.019       0.221\n",
      "x7             0.1280      0.085      1.506      0.134      -0.040       0.296\n",
      "x8            -0.0021      0.001     -1.842      0.068      -0.004       0.000\n",
      "x9            -0.0003    8.7e-05     -3.860      0.000      -0.001      -0.000\n",
      "x10           -0.0406      0.010     -4.117      0.000      -0.060      -0.021\n",
      "x11            0.3435      0.045      7.576      0.000       0.254       0.433\n",
      "x12           -0.0166      0.004     -4.259      0.000      -0.024      -0.009\n",
      "x13           -0.0042      0.001     -4.413      0.000      -0.006      -0.002\n",
      "x14         7.456e-05   8.07e-05      0.924      0.357   -8.51e-05       0.000\n",
      "x15        -7.916e-07   2.83e-07     -2.795      0.006   -1.35e-06   -2.32e-07\n",
      "==============================================================================\n",
      "\n",
      "The condition number is large, 1.56e+07. This might indicate that there are\n",
      "strong multicollinearity or other numerical problems.\n"
     ],
     "output_type": "stream"
    }
   ],
   "source": [
    "import statsmodels.api as sm\n",
    "qrX = X_train\n",
    "qrX = sm.add_constant(qrX[0:])\n",
    "qr = sm.QuantReg(Y_train.reshape(-1,1),qrX)\n",
    "res = qr.fit(q=.2)\n",
    "print(res.summary())"
   ],
   "metadata": {
    "collapsed": false,
    "pycharm": {
     "name": "#%%\n",
     "is_executing": false
    }
   }
  },
  {
   "cell_type": "code",
   "execution_count": 31,
   "outputs": [
    {
     "name": "stderr",
     "text": [
      " D:\\CondaEnv\\netSVGpython36\\lib\\site-packages\\statsmodels\\regression\\quantile_regression.py:191: IterationLimitWarning:Maximum number of iterations (1000) reached.\n",
      " D:\\CondaEnv\\netSVGpython36\\lib\\site-packages\\statsmodels\\regression\\quantile_regression.py:191: IterationLimitWarning:Maximum number of iterations (1000) reached.\n",
      " D:\\CondaEnv\\netSVGpython36\\lib\\site-packages\\statsmodels\\regression\\quantile_regression.py:191: IterationLimitWarning:Maximum number of iterations (1000) reached.\n"
     ],
     "output_type": "stream"
    },
    {
     "name": "stdout",
     "text": [
      "0.05\t0.0424\t[ 0.0277  0.      0.0096  0.1717 -0.1038  0.1618  0.0365 -0.0009 -0.0004\n",
      " -0.0391  0.3562 -0.0199 -0.0045  0.     -0.    ]\n",
      "0.15\t0.0591\t[ 0.0281  0.      0.0101  0.1678 -0.099   0.1167  0.1119 -0.0017 -0.0004\n",
      " -0.0402  0.3393 -0.0176 -0.0041  0.0001 -0.    ]\n",
      "0.25\t0.0452\t[ 0.0286  0.0001  0.0104  0.1642 -0.0835  0.0969  0.1168 -0.002  -0.0003\n",
      " -0.0401  0.3578 -0.0172 -0.0039  0.0001 -0.    ]\n",
      "0.35\t0.0338\t[ 0.03    0.      0.0092  0.1911 -0.1147  0.1848  0.0287 -0.0006 -0.0002\n",
      " -0.0454  0.3518 -0.0204 -0.0036  0.0001 -0.    ]\n",
      "0.45\t1.6775\t[ 0.0037  0.0001 -0.0082  0.0879 -0.0244  0.1403 -0.2371 -0.0001 -0.\n",
      " -0.0314  0.2245 -0.0233 -0.0016  0.0002 -0.    ]\n",
      "0.55\t0.096\t[ 0.0262  0.      0.009   0.155  -0.0588  0.0748  0.1795 -0.0014 -0.0002\n",
      " -0.0433  0.4042 -0.0194 -0.0033  0.0001 -0.    ]\n",
      "0.65\t0.0722\t[ 0.0251  0.0001  0.0087  0.1494 -0.0721  0.1256  0.0558 -0.0003 -0.0003\n",
      " -0.0299  0.3653 -0.0227 -0.0037  0.     -0.    ]\n",
      "0.75\t0.0588\t[ 0.0268  0.      0.009   0.16   -0.08    0.1309  0.0883 -0.0006 -0.0003\n",
      " -0.0356  0.3698 -0.0205 -0.0035  0.0001 -0.    ]\n",
      "0.85\t0.0205\t[ 0.0275  0.      0.0119  0.1616 -0.0348  0.1755 -0.0728 -0.0038 -0.0001\n",
      " -0.0338  0.3688 -0.0123 -0.003   0.0002 -0.    ]\n",
      "0.95\t0.0369\t[ 0.0237  0.0001  0.009   0.1085  0.0296  0.0684 -0.117  -0.0004 -0.0002\n",
      " -0.0056  0.4515 -0.0238 -0.0057  0.0001 -0.    ]\n",
      "1.3489180558522271\n",
      "0.008175588394477962\n",
      "4.326285572166244e-05\n",
      "-0.0037566896509790837\n",
      "0.10772643481029931\n",
      "-0.03869830686559261\n",
      "0.17170804551391683\n",
      "-0.17003719615343726\n",
      "-0.0013623173059733595\n",
      "-8.742480451241763e-05\n",
      "-0.03790803114159491\n",
      "0.26697299823393994\n",
      "-0.01763591066555359\n",
      "-0.001526259395898899\n",
      "0.00013703967436979464\n",
      "-5.276282929970598e-08\n",
      "over\n"
     ],
     "output_type": "stream"
    }
   ],
   "source": [
    "quantiles = np.arange(.05, .96, .1)\n",
    "quantiles = np.around(quantiles, decimals=3)\n",
    "def fit_model(q):\n",
    "    res = qr.fit(q=q)\n",
    "    return q, np.around(res.params,decimals=  4)\n",
    "\n",
    "models = []\n",
    "\n",
    "for x in quantiles:\n",
    "    q, param = fit_model(x)\n",
    "    model = QrModels.QrModels(q, param[0], param[1:])\n",
    "    models.append(model)\n",
    "\n",
    "for model in models:\n",
    "    print(str(model.q)+'\\t'+str(model.a)+'\\t'+str(model.param))\n",
    "\n",
    "ols = sm.OLS(Y_train.reshape(-1,1),qrX).fit()\n",
    "           \n",
    "for ol in ols.params:\n",
    "    print(str(ol))\n",
    "print(\"over\")"
   ],
   "metadata": {
    "collapsed": false,
    "pycharm": {
     "name": "#%%\n",
     "is_executing": false
    }
   }
  },
  {
   "cell_type": "code",
   "execution_count": 32,
   "outputs": [],
   "source": [
    "y_quantile = [1.017,1.018,1.019,1.019,1.020,1.021,1.023,1.027,1.028,1.029]"
   ],
   "metadata": {
    "collapsed": false,
    "pycharm": {
     "name": "#%%\n",
     "is_executing": false
    }
   }
  },
  {
   "cell_type": "code",
   "execution_count": 33,
   "outputs": [
    {
     "name": "stdout",
     "text": [
      "over\n"
     ],
     "output_type": "stream"
    }
   ],
   "source": [
    "\n",
    "for xv in x_value:\n",
    "    xv.sort()\n",
    "for xv in x_value_ori:\n",
    "    xv.sort()\n",
    "print(\"over\")"
   ],
   "metadata": {
    "collapsed": false,
    "pycharm": {
     "name": "#%%\n",
     "is_executing": false
    }
   }
  },
  {
   "cell_type": "code",
   "execution_count": 34,
   "outputs": [
    {
     "name": "stdout",
     "text": [
      "over\n"
     ],
     "output_type": "stream"
    }
   ],
   "source": [
    "vir_xpoint = []\n",
    "vir_ypoint = []\n",
    "del_list = []\n",
    "QRselection.qr_selection2(xlim_list, models, vir_xpoint, vir_ypoint, y_quantile, ols, x_value_ori,\n",
    "                 n_sample, X_train, Y_train, sample_list, point_list, x_value)\n",
    "print(\"over\")"
   ],
   "metadata": {
    "collapsed": false,
    "pycharm": {
     "name": "#%%\n",
     "is_executing": false
    }
   }
  },
  {
   "cell_type": "code",
   "execution_count": 35,
   "outputs": [
    {
     "name": "stdout",
     "text": [
      "over\n"
     ],
     "output_type": "stream"
    }
   ],
   "source": [
    "i = 0\n",
    "for point in point_list:\n",
    "    if point.checked == 1:\n",
    "        i += 1\n",
    "print(\"over\")"
   ],
   "metadata": {
    "collapsed": false,
    "pycharm": {
     "name": "#%%\n",
     "is_executing": false
    }
   }
  },
  {
   "cell_type": "code",
   "execution_count": 36,
   "outputs": [
    {
     "name": "stdout",
     "text": [
      "Covariance matrix is not full rank; solving with SVD (slow)\n",
      "This happened because you have duplicated or too many neurons\n",
      "Covariance matrix is not full rank; solving with SVD (slow)\n",
      "This happened because you have duplicated or too many neurons\n",
      "over\n"
     ],
     "output_type": "stream"
    },
    {
     "name": "stderr",
     "text": [
      " D:\\CondaEnv\\netSVGpython36\\lib\\site-packages\\hpelm\\nnets\\slfn.py:62: RuntimeWarning:overflow encountered in exp\n",
      " D:\\CondaEnv\\netSVGpython36\\lib\\site-packages\\hpelm\\nnets\\slfn_python.py:65: FutureWarning:`rcond` parameter will change to the default of machine precision times ``max(M, N)`` where M and N are the input matrix dimensions.\n",
      "To use the future default and silence this warning we advise to pass `rcond=None`, to keep using the old, explicitly pass `rcond=-1`.\n"
     ],
     "output_type": "stream"
    }
   ],
   "source": [
    "from hpelm import ELM\n",
    "elm_old = ELM(15, 1)\n",
    "elm_old.add_neurons(70, \"sigm\")\n",
    "#elm.add_neurons(10, \"rbf_l2\")\n",
    "elm_old.train(np.array(X_train), np.array(Y_train))\n",
    "y_predict_old = elm_old.predict(X_test)\n",
    "\n",
    "elm_new = ELM(15, 1)\n",
    "elm_new.add_neurons(70, \"sigm\")\n",
    "#elm.add_neurons(10, \"rbf_l2\")\n",
    "#elm_new.train(np.array(vir_xpoint), np.array(vir_ypoint), \"LOO\")\n",
    "add_x_train = dataset.add_train(X_train, np.array(vir_xpoint))\n",
    "add_y_train = dataset.add_train(Y_train, np.array(vir_ypoint))\n",
    "elm_new.train(np.array(add_x_train), np.array(add_y_train))\n",
    "y_predict_new = elm_new.predict(X_test)\n",
    "\n",
    "test_list = []\n",
    "for i in range(len(X_test)):\n",
    "    test_point = Point.TestPoint(X_test[i], Y_test[i], y_predict_old[i], y_predict_new[i])\n",
    "    test_list.append(test_point)\n",
    "print(\"over\")"
   ],
   "metadata": {
    "collapsed": false,
    "pycharm": {
     "name": "#%%\n",
     "is_executing": false
    }
   }
  },
  {
   "cell_type": "code",
   "execution_count": 37,
   "outputs": [
    {
     "data": {
      "text/plain": "<Figure size 720x720 with 1 Axes>",
      "image/png": "[encoded data removed]"
     },
     "metadata": {
      "needs_background": "light"
     },
     "output_type": "display_data"
    }
   ],
   "source": [
    " \n",
    "plotting.plot_erro2(test_list, exp_config, fig_dir, \"vir_erro\")"
   ],
   "metadata": {
    "collapsed": false,
    "pycharm": {
     "name": "#%%\n",
     "is_executing": false
    }
   }
  },
  {
   "cell_type": "code",
   "execution_count": 38,
   "outputs": [
    {
     "data": {
      "text/plain": "'\\ndel_point_l = []\\nfor i in range(len(del_list)):\\n    del_point = Point.TestPoint(X_test[i], Y_test[i], y_predict_old[i], y_predict_new[i])\\n    test_list.append(test_point)\\nprint(\"over\")\\nplotting.plot_erro2(test_list, exp_config, fig_dir, \"del_erro\")'"
     },
     "metadata": {},
     "output_type": "execute_result",
     "execution_count": 38
    }
   ],
   "source": [
    "'''\n",
    "del_point_l = []\n",
    "for i in range(len(del_list)):\n",
    "    del_point = Point.TestPoint(X_test[i], Y_test[i], y_predict_old[i], y_predict_new[i])\n",
    "    test_list.append(test_point)\n",
    "print(\"over\")\n",
    "plotting.plot_erro2(test_list, exp_config, fig_dir, \"del_erro\")'''"
   ],
   "metadata": {
    "collapsed": false,
    "pycharm": {
     "name": "#%%\n",
     "is_executing": false
    }
   }
  },
  {
   "cell_type": "code",
   "execution_count": 39,
   "outputs": [
    {
     "name": "stdout",
     "text": [
      " all test point\n",
      "[0.00339907]\n",
      "[0.00299459]\n",
      "[0.00001845]\n",
      "[0.00002177]\n",
      "[0.00331247]\n",
      "[0.00291598]\n"
     ],
     "output_type": "stream"
    }
   ],
   "source": [
    "mae_old, mae_new = Measure.mae2(test_list)\n",
    "mse_old, mse_new = Measure.mse2(test_list)\n",
    "mape_old, mape_new = Measure.mape2(test_list)\n",
    "print(\" all test point\")\n",
    "print(mae_old)\n",
    "print(mae_new)\n",
    "print(mse_old)\n",
    "print(mse_new)\n",
    "print(mape_old)\n",
    "print(mape_new)"
   ],
   "metadata": {
    "collapsed": false,
    "pycharm": {
     "name": "#%%\n",
     "is_executing": false
    }
   }
  },
  {
   "cell_type": "code",
   "execution_count": 40,
   "outputs": [],
   "source": [
    "\n",
    "np.savetxt(\"../figures/HDPE/vx_data.txt\", np.array(vir_xpoint),fmt='%.8f',delimiter=' ')"
   ],
   "metadata": {
    "collapsed": false,
    "pycharm": {
     "name": "#%%\n",
     "is_executing": false
    }
   }
  },
  {
   "cell_type": "code",
   "execution_count": 41,
   "outputs": [],
   "source": [
    "np.savetxt(\"../figures/HDPE/vy_data.txt\", np.array(vir_ypoint),fmt='%.8f',delimiter=' ')\n",
    "\n",
    "\n",
    "\n"
   ],
   "metadata": {
    "collapsed": false,
    "pycharm": {
     "name": "#%%\n",
     "is_executing": false
    }
   }
  }
 ],
 "metadata": {
  "kernelspec": {
   "display_name": "Python 3",
   "language": "python",
   "name": "python3"
  },
  "language_info": {
   "codemirror_mode": {
    "name": "ipython",
    "version": 2
   },
   "file_extension": ".py",
   "mimetype": "text/x-python",
   "name": "python",
   "nbconvert_exporter": "python",
   "pygments_lexer": "ipython2",
   "version": "2.7.6"
  },
  "pycharm": {
   "stem_cell": {
    "cell_type": "raw",
    "source": [],
    "metadata": {
     "collapsed": false
    }
   }
  }
 },
 "nbformat": 4,
 "nbformat_minor": 0
}