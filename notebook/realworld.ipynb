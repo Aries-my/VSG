{
 "cells": [
  {
   "cell_type": "code",
   "execution_count": 41,
   "outputs": [
    {
     "data": {
      "text/plain": "<module 'models.cgan_model' from 'D:\\\\netSVG\\\\models\\\\cgan_model.py'>"
     },
     "metadata": {},
     "output_type": "execute_result",
     "execution_count": 41
    }
   ],
   "source": [
    "import numpy as np\n",
    "import importlib\n",
    "from models import cgan_model\n",
    "import dataset\n",
    "import config, plotting, sample, SampleCharacter, XLim, QRselection\n",
    "import QrModels, Point\n",
    "import copy\n",
    "import RelativeImportance\n",
    "import Measure\n",
    "import Generation\n",
    "\n",
    "\n",
    "importlib.reload(config)\n",
    "importlib.reload(dataset)\n",
    "importlib.reload(plotting)\n",
    "importlib.reload(sample)\n",
    "importlib.reload(SampleCharacter)\n",
    "importlib.reload(XLim)\n",
    "importlib.reload(QRselection)\n",
    "importlib.reload(QrModels)\n",
    "importlib.reload(Point)\n",
    "importlib.reload(RelativeImportance)\n",
    "importlib.reload(Measure)\n",
    "importlib.reload(Generation)\n",
    "importlib.reload(cgan_model)"
   ],
   "metadata": {
    "collapsed": false,
    "pycharm": {
     "name": "#%%\n",
     "is_executing": false
    }
   }
  },
  {
   "cell_type": "code",
   "execution_count": 42,
   "outputs": [
    {
     "name": "stdout",
     "text": [
      "Directory ../figures/MLCC already exists replacing files in this notebook\n"
     ],
     "output_type": "stream"
    }
   ],
   "source": [
    "import os\n",
    "dataset_config = config.DatasetConfig(scenario=\"MLCC\", n_instance=1000)\n",
    "\n",
    "assert(dataset_config.scenario == \"PG\" \n",
    "       or dataset_config.scenario == \"PT\"\n",
    "      or dataset_config.scenario == \"MLCC\"\n",
    "      )\n",
    "fig_dir = f\"../figures/{dataset_config.scenario}\"\n",
    "\n",
    "try:\n",
    "    os.mkdir(fig_dir)\n",
    "    print(f\"Directory {fig_dir} created \") \n",
    "except FileExistsError:\n",
    "    print(f\"Directory {fig_dir} already exists replacing files in this notebook\")\n"
   ],
   "metadata": {
    "collapsed": false,
    "pycharm": {
     "name": "#%%\n",
     "is_executing": false
    }
   }
  },
  {
   "cell_type": "code",
   "execution_count": 43,
   "outputs": [],
   "source": [
    "file_name_test = \"../data/\" + dataset_config.scenario+ \"/test_data.txt\"\n",
    "X_test,Y_test = dataset.get_functional_test_data(file_name_test)"
   ],
   "metadata": {
    "collapsed": false,
    "pycharm": {
     "name": "#%%\n",
     "is_executing": false
    }
   }
  },
  {
   "cell_type": "code",
   "execution_count": 44,
   "outputs": [],
   "source": [
    "file_name_train = \"../data/\" + dataset_config.scenario+ \"/train_data.txt\"\n",
    "X_train,Y_train = dataset.get_functional_train_data(file_name_train)"
   ],
   "metadata": {
    "collapsed": false,
    "pycharm": {
     "name": "#%%\n",
     "is_executing": false
    }
   }
  },
  {
   "cell_type": "code",
   "execution_count": 45,
   "outputs": [],
   "source": [
    "random_seed = 1985\n",
    "if dataset_config.scenario == \"MLCC\":\n",
    "    exp_config = config.Config(\n",
    "        model=config.ModelConfig(activation=\"elu\", lr_gen=0.0001, lr_disc=0.0005, dec_gen=0, dec_disc=0, \n",
    "                                 optim_gen=\"Adam\", optim_disc=\"Adam\", z_input_size=1, random_seed=random_seed),\n",
    "        training=config.TrainingConfig(n_epochs=500, batch_size=100, n_samples=50),\n",
    "        dataset=dataset_config,\n",
    "        run=config.RunConfig(save_fig=1)\n",
    "    )  "
   ],
   "metadata": {
    "collapsed": false,
    "pycharm": {
     "name": "#%%\n",
     "is_executing": false
    }
   }
  },
  {
   "cell_type": "code",
   "execution_count": 46,
   "outputs": [
    {
     "name": "stdout",
     "text": [
      "Unstandardized regression coefficient: \n",
      "[   516.26598  -5939.44373   3158.6037  -13415.87356  12686.50324\n",
      "     14.90333      1.26763    -16.96347   1582.86887     22.23489\n",
      "    731.88739   -824.57838]\n",
      "normal coefficient: \n",
      "120120.5083\n",
      "Standardized regression coefficient: \n",
      "[ 0.0989  -0.656    0.08608 -0.42259  0.37176  0.25209  0.66808 -0.11532\n",
      "  0.99639  0.12254  0.78234 -0.06253]\n",
      "normal coefficient: \n",
      "0.0\n"
     ],
     "output_type": "stream"
    }
   ],
   "source": [
    "coef = sample.get_sta_reg_cov(X_train,Y_train)"
   ],
   "metadata": {
    "collapsed": false,
    "pycharm": {
     "name": "#%%\n",
     "is_executing": false
    }
   }
  },
  {
   "cell_type": "code",
   "execution_count": 47,
   "outputs": [
    {
     "name": "stdout",
     "text": [
      "The importance for every dimension:\n",
      "[0.005807103724392776, 0.08056379800289575, 0.027708178275372558, 0.029279516948187895, 0.06921072266530037, 0.1222271387246593, 0.11319916571268794, 0.04157214482892202, 0.12625181040975142, 0.06501790211941245, 0.3118271249994784, 0.0073353935889390945]\n"
     ],
     "output_type": "stream"
    }
   ],
   "source": [
    "#elif dataset_config.scenario == \"MLCC\":\n",
    "     #imp = RelativeImportance.relativeImp_MLCC()\n",
    "imp = [0.005807103724392776, 0.08056379800289575, 0.027708178275372558, 0.029279516948187895, 0.06921072266530037, 0.1222271387246593, 0.11319916571268794, 0.04157214482892202, 0.12625181040975142, 0.06501790211941245, 0.3118271249994784, 0.0073353935889390945]\n",
    "#imp = list(imp.values())\n",
    "print(\"The importance for every dimension:\")\n",
    "print(imp)\n",
    "\n",
    "#os.exist(0)"
   ],
   "metadata": {
    "collapsed": false,
    "pycharm": {
     "name": "#%%\n",
     "is_executing": false
    }
   }
  },
  {
   "cell_type": "code",
   "execution_count": 48,
   "outputs": [
    {
     "name": "stdout",
     "text": [
      "Euclidean distance in x domain：\n",
      "minist dist:\n",
      "66.461\n",
      "maxist imp:\n",
      "0.3118271249994784\n",
      "The original length of the smaple: \n",
      "[ 1.23769 17.17089  5.90556  6.24046 14.75117 26.05077 24.1266   8.86044\n",
      " 26.90857 13.85753 66.461    1.56342]\n"
     ],
     "output_type": "stream"
    }
   ],
   "source": [
    "length, max_dist = sample.get_sample_length(X_train,imp)"
   ],
   "metadata": {
    "collapsed": false,
    "pycharm": {
     "name": "#%%\n",
     "is_executing": false
    }
   }
  },
  {
   "cell_type": "code",
   "execution_count": 49,
   "outputs": [
    {
     "name": "stdout",
     "text": [
      "The value area of x in the sample is between 2.7 and 3.3in the dimension of No. 0\n",
      "The value area of x in the sample is between 1.83 and 2.15in the dimension of No. 1\n",
      "The value area of x in the sample is between 0.92 and 1.0in the dimension of No. 2\n",
      "The value area of x in the sample is between 0.41 and 0.5in the dimension of No. 3\n",
      "The value area of x in the sample is between 0.0 and 0.08in the dimension of No. 4\n",
      "The value area of x in the sample is between 1262.0 and 1307.0in the dimension of No. 5\n",
      "The value area of x in the sample is between 10232.0 and 11750.0in the dimension of No. 6\n",
      "The value area of x in the sample is between 22.0 and 41.0in the dimension of No. 7\n",
      "The value area of x in the sample is between -75.6 and -73.5in the dimension of No. 8\n",
      "The value area of x in the sample is between 40.4 and 54.0in the dimension of No. 9\n",
      "The value area of x in the sample is between -9.0 and -5.2in the dimension of No. 10\n",
      "The value area of x in the sample is between 0.824 and 1.03in the dimension of No. 11\n",
      "The full length of every dimension:\n",
      "[   0.6      0.32     0.08     0.09     0.08    45.    1518.      19.\n",
      "    2.1     13.6      3.8      0.206]\n"
     ],
     "output_type": "stream"
    }
   ],
   "source": [
    "x_min = np.amin(X_train, axis=0)\n",
    "x_max = np.amax(X_train, axis=0)\n",
    "L = sample.get_x_len(x_min, x_max)"
   ],
   "metadata": {
    "collapsed": false,
    "pycharm": {
     "name": "#%%\n",
     "is_executing": false
    }
   }
  },
  {
   "cell_type": "code",
   "execution_count": 50,
   "outputs": [
    {
     "name": "stdout",
     "text": [
      "The number of diversions of the 0th dimension is: 1\n",
      "1\n",
      "The number of diversions of the 1th dimension is: 1\n",
      "1\n",
      "The number of diversions of the 2th dimension is: 1\n",
      "1\n",
      "The number of diversions of the 3th dimension is: 1\n",
      "1\n",
      "The number of diversions of the 4th dimension is: 1\n",
      "1\n",
      "The number of diversions of the 5th dimension is: 2\n",
      "2\n",
      "The number of diversions of the 6th dimension is: 63\n",
      "63\n",
      "The number of diversions of the 7th dimension is: 3\n",
      "3\n",
      "The number of diversions of the 8th dimension is: 1\n",
      "1\n",
      "The number of diversions of the 9th dimension is: 1\n",
      "1\n",
      "The number of diversions of the 10th dimension is: 1\n",
      "1\n",
      "The number of diversions of the 11th dimension is: 1\n",
      "1\n",
      "总的样方分割数为：\n",
      "378\n",
      "分割数：\n",
      "[ 1  1  1  1  1  2 63  3  1  1  1  1]\n",
      "样方的大小：\n",
      "[ 1.23769 17.17089  5.90556  6.24046 14.75117 26.05077 24.1266   8.86044\n",
      " 26.90857 13.85753 66.461    1.56342]\n"
     ],
     "output_type": "stream"
    }
   ],
   "source": [
    "n_sample,length = sample.divide_sample2(length, L, 300)"
   ],
   "metadata": {
    "collapsed": false,
    "pycharm": {
     "name": "#%%\n",
     "is_executing": false
    }
   }
  },
  {
   "cell_type": "code",
   "execution_count": 51,
   "outputs": [
    {
     "name": "stdout",
     "text": [
      "第0维度，最小的x为2.7\n",
      "第0维度的中心值有：\n",
      "[3.31884]\n",
      "第1维度，最小的x为1.83\n",
      "第1维度的中心值有：\n",
      "[10.41544]\n",
      "第2维度，最小的x为0.92\n",
      "第2维度的中心值有：\n",
      "[3.87278]\n",
      "第3维度，最小的x为0.41\n",
      "第3维度的中心值有：\n",
      "[3.53023]\n",
      "第4维度，最小的x为0.0\n",
      "第4维度的中心值有：\n",
      "[7.37558]\n",
      "第5维度，最小的x为1262.0\n",
      "第5维度的中心值有：\n",
      "[1275.02538, 1301.07616]\n",
      "第6维度，最小的x为10232.0\n",
      "第6维度的中心值有：\n",
      "[10244.0633, 10268.1899, 10292.3165, 10316.4431, 10340.5697, 10364.6963, 10388.8229, 10412.9495, 10437.0761, 10461.2027, 10485.3293, 10509.4559, 10533.5825, 10557.7091, 10581.8357, 10605.9623, 10630.0889, 10654.2155, 10678.3421, 10702.4687, 10726.5953, 10750.7219, 10774.8485, 10798.9751, 10823.1017, 10847.2283, 10871.3549, 10895.4815, 10919.6081, 10943.7347, 10967.8613, 10991.9879, 11016.1145, 11040.2411, 11064.3677, 11088.4943, 11112.6209, 11136.7475, 11160.8741, 11185.0007, 11209.1273, 11233.2539, 11257.3805, 11281.5071, 11305.6337, 11329.7603, 11353.8869, 11378.0135, 11402.1401, 11426.2667, 11450.3933, 11474.5199, 11498.6465, 11522.7731, 11546.8997, 11571.0263, 11595.1529, 11619.2795, 11643.4061, 11667.5327, 11691.6593, 11715.7859, 11739.9125]\n",
      "第7维度，最小的x为22.0\n",
      "第7维度的中心值有：\n",
      "[26.43022, 35.29066, 44.1511]\n",
      "第8维度，最小的x为-75.6\n",
      "第8维度的中心值有：\n",
      "[-62.14572]\n",
      "第9维度，最小的x为40.4\n",
      "第9维度的中心值有：\n",
      "[47.32876]\n",
      "第10维度，最小的x为-9.0\n",
      "第10维度的中心值有：\n",
      "[24.2305]\n",
      "第11维度，最小的x为0.824\n",
      "第11维度的中心值有：\n",
      "[1.60571]\n"
     ],
     "output_type": "stream"
    }
   ],
   "source": [
    "dim = len(X_train[0])\n",
    "gen_x = sample.gen_x_center(dim,length,n_sample, x_min)"
   ],
   "metadata": {
    "collapsed": false,
    "pycharm": {
     "name": "#%%\n",
     "is_executing": false
    }
   }
  },
  {
   "cell_type": "code",
   "execution_count": 52,
   "outputs": [
    {
     "name": "stdout",
     "text": [
      "样方中心点：\n"
     ],
     "output_type": "stream"
    }
   ],
   "source": [
    "gen_sample_point = sample.gen_product2(gen_x)\n",
    "print(\"样方中心点：\")\n",
    "gen_sample_point = np.array(gen_sample_point)\n",
    "#print(gen_sample_point)"
   ],
   "metadata": {
    "collapsed": false,
    "pycharm": {
     "name": "#%%\n",
     "is_executing": false
    }
   }
  },
  {
   "cell_type": "code",
   "execution_count": 53,
   "outputs": [
    {
     "name": "stdout",
     "text": [
      "over\n"
     ],
     "output_type": "stream"
    }
   ],
   "source": [
    "xlimit = []\n",
    "for index in range(len(n_sample)):\n",
    "    l = []\n",
    "    for i in range(n_sample[index]):\n",
    "        x = x_min[index] + i * length[index]\n",
    "        l.append(x)\n",
    "    l.append(x_min[index] + n_sample[index] * length[index])\n",
    "    xlimit.append(l)\n",
    "print(\"over\")"
   ],
   "metadata": {
    "collapsed": false,
    "pycharm": {
     "name": "#%%\n",
     "is_executing": false
    }
   }
  },
  {
   "cell_type": "code",
   "execution_count": 54,
   "outputs": [],
   "source": [
    "sample_list = []\n",
    "xlim_list = []"
   ],
   "metadata": {
    "collapsed": false,
    "pycharm": {
     "name": "#%%\n",
     "is_executing": false
    }
   }
  },
  {
   "cell_type": "code",
   "execution_count": 55,
   "outputs": [
    {
     "name": "stdout",
     "text": [
      "over\n"
     ],
     "output_type": "stream"
    }
   ],
   "source": [
    "x_value = []\n",
    "for index in range(dim):\n",
    "    xl = []\n",
    "    for i in range(len(X_train)):\n",
    "        x = X_train[i][index]\n",
    "        r = 0\n",
    "        for xi in xl:\n",
    "            if xi == x:\n",
    "                r = 1\n",
    "        if r == 0:\n",
    "            xl.append(x)\n",
    "    x_value.append(xl)\n",
    "    \n",
    "x_value_ori = copy.deepcopy(x_value)\n",
    "print(\"over\")"
   ],
   "metadata": {
    "collapsed": false,
    "pycharm": {
     "name": "#%%\n",
     "is_executing": false
    }
   }
  },
  {
   "cell_type": "code",
   "execution_count": 56,
   "outputs": [
    {
     "name": "stdout",
     "text": [
      "over\n"
     ],
     "output_type": "stream"
    }
   ],
   "source": [
    "XLim.con_s(gen_sample_point, sample_list, dim, xlimit)\n",
    "print(\"over\")"
   ],
   "metadata": {
    "collapsed": false,
    "pycharm": {
     "name": "#%%\n",
     "is_executing": false
    }
   }
  },
  {
   "cell_type": "code",
   "execution_count": 57,
   "outputs": [
    {
     "name": "stdout",
     "text": [
      "over\n"
     ],
     "output_type": "stream"
    }
   ],
   "source": [
    "XLim.con_sample(xlim_list, length, x_min, dim, n_sample)\n",
    "print(\"over\")"
   ],
   "metadata": {
    "collapsed": false,
    "pycharm": {
     "name": "#%%\n",
     "is_executing": false
    }
   }
  },
  {
   "cell_type": "code",
   "execution_count": 58,
   "outputs": [
    {
     "name": "stdout",
     "text": [
      "over\n"
     ],
     "output_type": "stream"
    }
   ],
   "source": [
    "XLim.sample_feature(xlim_list, sample_list, x_value)\n",
    "print(\"over\")"
   ],
   "metadata": {
    "collapsed": false,
    "pycharm": {
     "name": "#%%\n",
     "is_executing": false
    }
   }
  },
  {
   "cell_type": "code",
   "execution_count": 59,
   "outputs": [],
   "source": [
    "XLim.add_xvalue(xlim_list)\n",
    "#os.exist(0)"
   ],
   "metadata": {
    "collapsed": false,
    "pycharm": {
     "name": "#%%\n",
     "is_executing": false
    }
   }
  },
  {
   "cell_type": "code",
   "execution_count": 60,
   "outputs": [],
   "source": [
    "x_com, x_add = Generation.get_x_com(X_train, dim, x_value, x_value_ori)"
   ],
   "metadata": {
    "collapsed": false,
    "pycharm": {
     "name": "#%%\n",
     "is_executing": false
    }
   }
  },
  {
   "cell_type": "code",
   "execution_count": 61,
   "outputs": [],
   "source": [
    "E_dist = Generation.E_dist(x_com)\n",
    "#os.exist(0)"
   ],
   "metadata": {
    "collapsed": false,
    "pycharm": {
     "name": "#%%\n",
     "is_executing": false
    }
   }
  },
  {
   "cell_type": "code",
   "execution_count": 62,
   "outputs": [
    {
     "name": "stdout",
     "text": [
      "0\n",
      "1\n",
      "2\n",
      "3\n",
      "4\n",
      "5\n",
      "6\n",
      "7\n",
      "8\n",
      "9\n",
      "10\n",
      "11\n",
      "12\n",
      "13\n",
      "14\n",
      "15\n",
      "16\n",
      "17\n",
      "18\n",
      "19\n",
      "20\n",
      "21\n",
      "22\n",
      "23\n",
      "24\n",
      "25\n",
      "26\n",
      "27\n",
      "28\n",
      "29\n",
      "30\n",
      "31\n",
      "32\n",
      "33\n",
      "34\n",
      "35\n",
      "36\n",
      "37\n",
      "38\n",
      "39\n",
      "40\n",
      "41\n",
      "42\n",
      "43\n",
      "44\n",
      "45\n",
      "46\n",
      "47\n",
      "48\n",
      "49\n",
      "50\n",
      "51\n",
      "52\n",
      "53\n",
      "54\n",
      "55\n",
      "56\n",
      "57\n",
      "58\n",
      "59\n",
      "60\n",
      "61\n",
      "62\n",
      "63\n",
      "64\n",
      "65\n",
      "66\n",
      "67\n",
      "68\n",
      "69\n",
      "70\n",
      "71\n",
      "72\n",
      "73\n",
      "74\n",
      "75\n",
      "76\n",
      "77\n",
      "78\n",
      "79\n",
      "80\n",
      "81\n",
      "82\n",
      "83\n",
      "84\n",
      "85\n",
      "86\n",
      "87\n",
      "88\n",
      "89\n",
      "90\n",
      "91\n",
      "92\n",
      "93\n",
      "94\n",
      "95\n",
      "96\n",
      "97\n",
      "98\n",
      "99\n",
      "100\n",
      "101\n",
      "102\n",
      "103\n",
      "104\n",
      "105\n",
      "106\n",
      "107\n",
      "108\n",
      "109\n",
      "110\n",
      "111\n",
      "112\n",
      "113\n",
      "114\n",
      "115\n",
      "116\n",
      "117\n",
      "118\n",
      "119\n",
      "120\n",
      "121\n",
      "122\n",
      "123\n",
      "124\n",
      "125\n",
      "126\n",
      "127\n",
      "128\n",
      "129\n",
      "130\n",
      "131\n",
      "132\n",
      "133\n",
      "134\n",
      "135\n",
      "136\n",
      "137\n",
      "138\n",
      "139\n",
      "140\n",
      "141\n",
      "142\n",
      "143\n",
      "144\n",
      "145\n",
      "146\n",
      "147\n",
      "148\n",
      "149\n",
      "150\n",
      "151\n",
      "152\n",
      "153\n",
      "154\n",
      "155\n",
      "156\n",
      "157\n",
      "158\n",
      "159\n",
      "160\n",
      "161\n",
      "162\n",
      "163\n",
      "164\n",
      "165\n",
      "166\n",
      "167\n",
      "168\n",
      "169\n",
      "170\n",
      "171\n",
      "172\n",
      "173\n",
      "174\n",
      "175\n",
      "176\n",
      "177\n",
      "178\n",
      "179\n",
      "180\n",
      "181\n",
      "182\n",
      "183\n",
      "184\n",
      "185\n",
      "186\n",
      "187\n",
      "188\n",
      "189\n",
      "190\n",
      "191\n",
      "192\n",
      "193\n",
      "194\n",
      "195\n",
      "196\n",
      "197\n",
      "198\n",
      "199\n",
      "200\n",
      "201\n",
      "202\n",
      "203\n",
      "204\n",
      "205\n",
      "206\n",
      "207\n",
      "208\n",
      "209\n",
      "210\n",
      "211\n",
      "212\n",
      "213\n",
      "214\n",
      "215\n",
      "216\n",
      "217\n",
      "218\n",
      "219\n",
      "220\n",
      "221\n",
      "222\n",
      "223\n",
      "224\n",
      "225\n",
      "226\n",
      "227\n",
      "228\n",
      "229\n",
      "230\n",
      "231\n",
      "232\n",
      "233\n",
      "234\n",
      "235\n",
      "236\n",
      "237\n",
      "238\n",
      "239\n",
      "240\n",
      "241\n",
      "242\n",
      "243\n",
      "244\n",
      "245\n",
      "246\n",
      "247\n",
      "248\n",
      "249\n",
      "250\n",
      "251\n",
      "252\n",
      "253\n",
      "254\n",
      "255\n",
      "256\n",
      "257\n",
      "258\n",
      "259\n",
      "260\n",
      "261\n",
      "262\n",
      "263\n",
      "264\n",
      "265\n",
      "266\n",
      "267\n",
      "268\n",
      "269\n",
      "270\n",
      "271\n",
      "272\n",
      "273\n",
      "274\n",
      "275\n",
      "276\n",
      "277\n",
      "278\n",
      "279\n",
      "280\n",
      "281\n",
      "282\n",
      "283\n",
      "284\n",
      "285\n",
      "286\n",
      "287\n",
      "288\n",
      "289\n",
      "290\n",
      "291\n",
      "292\n",
      "293\n",
      "294\n",
      "295\n",
      "296\n",
      "297\n",
      "298\n",
      "299\n",
      "300\n",
      "301\n",
      "302\n",
      "303\n",
      "304\n",
      "305\n",
      "306\n",
      "307\n",
      "308\n",
      "309\n",
      "310\n",
      "311\n",
      "312\n",
      "313\n",
      "314\n",
      "315\n",
      "316\n",
      "317\n",
      "318\n",
      "319\n",
      "320\n",
      "321\n",
      "322\n",
      "323\n",
      "324\n",
      "325\n",
      "326\n",
      "327\n",
      "328\n",
      "329\n",
      "330\n",
      "331\n",
      "332\n",
      "333\n",
      "334\n",
      "335\n",
      "336\n",
      "337\n",
      "338\n",
      "339\n",
      "340\n",
      "341\n",
      "342\n",
      "343\n",
      "344\n",
      "345\n",
      "346\n",
      "347\n",
      "348\n",
      "349\n",
      "350\n",
      "351\n",
      "352\n",
      "353\n",
      "354\n",
      "355\n",
      "356\n",
      "357\n",
      "358\n",
      "359\n",
      "360\n",
      "361\n",
      "362\n",
      "363\n",
      "364\n",
      "365\n",
      "366\n",
      "367\n",
      "368\n",
      "369\n",
      "370\n",
      "371\n",
      "372\n",
      "373\n",
      "374\n",
      "375\n",
      "376\n",
      "377\n",
      "over\n"
     ],
     "output_type": "stream"
    }
   ],
   "source": [
    "gen_x = []\n",
    "discard_list = []\n",
    "Generation.gen_x_sample2(sample_list, gen_x, dim, x_max, x_min, n_sample, X_train)\n",
    "#gen_x_cross = sample.gen_product(x_value)\n",
    "print(\"over\")"
   ],
   "metadata": {
    "collapsed": false,
    "pycharm": {
     "name": "#%%\n",
     "is_executing": false
    }
   }
  },
  {
   "cell_type": "code",
   "execution_count": 63,
   "outputs": [
    {
     "name": "stdout",
     "text": [
      "over\n"
     ],
     "output_type": "stream"
    }
   ],
   "source": [
    "plot_xlim = copy.deepcopy(xlimit)\n",
    "for index in range(dim):\n",
    "    i = len(plot_xlim[index])\n",
    "    plot_xlim[index][i-1] = x_max[index]\n",
    "print(\"over\")        "
   ],
   "metadata": {
    "collapsed": false,
    "pycharm": {
     "name": "#%%\n",
     "is_executing": false
    }
   }
  },
  {
   "cell_type": "code",
   "execution_count": 64,
   "outputs": [],
   "source": [
    "gen_x_checked = []\n",
    "XLim.check2(sample_list, xlim_list, gen_x_checked, discard_list, gen_x)\n",
    "XLim.sample_attri(sample_list, X_train, gen_x_checked, Y_train)\n",
    "XLim.xl_attri(xlim_list, X_train, gen_x_checked)\n",
    "gen_x = np.array(gen_x)"
   ],
   "metadata": {
    "collapsed": false,
    "pycharm": {
     "name": "#%%\n",
     "is_executing": false
    }
   }
  },
  {
   "cell_type": "code",
   "execution_count": 65,
   "outputs": [
    {
     "data": {
      "text/plain": "HBox(children=(VBox(children=(IntProgress(value=0, max=1000), HTML(value=''))), Box(children=(HTML(value=''),)…",
      "application/vnd.jupyter.widget-view+json": {
       "version_major": 2,
       "version_minor": 0,
       "model_id": "5729be04168147b3926a2dc8f23aafc5"
      }
     },
     "metadata": {},
     "output_type": "display_data"
    },
    {
     "name": "stdout",
     "text": [
      "over\n"
     ],
     "output_type": "stream"
    }
   ],
   "source": [
    "import GPy\n",
    "\n",
    "noise = 3\n",
    "length_ = 2\n",
    "noise_var = exp_config.model.z_input_size\n",
    "run_hyperopt_search = True\n",
    "\n",
    "kernel = GPy.kern.RBF(input_dim=12, variance=noise, lengthscale=length_)\n",
    "gpr = GPy.models.GPRegression(X_train, Y_train.reshape(-1,1), kernel, noise_var=noise_var)\n",
    "if run_hyperopt_search:\n",
    "    gpr.optimize(messages=True) \n",
    "print(\"over\")"
   ],
   "metadata": {
    "collapsed": false,
    "pycharm": {
     "name": "#%%\n",
     "is_executing": false
    }
   }
  },
  {
   "cell_type": "code",
   "execution_count": 66,
   "outputs": [
    {
     "name": "stdout",
     "text": [
      "over\n"
     ],
     "output_type": "stream"
    }
   ],
   "source": [
    "gen_y_cross, cov_train_cross = gpr.predict(gen_x)\n",
    "print(\"over\")"
   ],
   "metadata": {
    "collapsed": false,
    "pycharm": {
     "name": "#%%\n",
     "is_executing": false
    }
   }
  },
  {
   "cell_type": "code",
   "execution_count": 67,
   "outputs": [
    {
     "name": "stdout",
     "text": [
      "over\n"
     ],
     "output_type": "stream"
    }
   ],
   "source": [
    "XLim.add_y(sample_list, gpr)\n",
    "print(\"over\")"
   ],
   "metadata": {
    "collapsed": false,
    "pycharm": {
     "name": "#%%\n",
     "is_executing": false
    }
   }
  },
  {
   "cell_type": "code",
   "execution_count": 68,
   "outputs": [
    {
     "name": "stdout",
     "text": [
      "over\n"
     ],
     "output_type": "stream"
    }
   ],
   "source": [
    "point_list = []\n",
    "Point.con_point(gen_x, gen_y_cross, point_list)\n",
    "print(\"over\")"
   ],
   "metadata": {
    "collapsed": false,
    "pycharm": {
     "name": "#%%\n",
     "is_executing": false
    }
   }
  },
  {
   "cell_type": "code",
   "execution_count": 69,
   "outputs": [
    {
     "name": "stdout",
     "text": [
      "over\n"
     ],
     "output_type": "stream"
    }
   ],
   "source": [
    "for sample in sample_list:\n",
    "    for index in range(len(sample.gen_xlist)):\n",
    "        for point in point_list:\n",
    "            r = -1\n",
    "            for i in range(dim):\n",
    "                if point.x[i] != sample.gen_xlist[index][i]:\n",
    "                    r = 0\n",
    "                    break\n",
    "            if r == -1:\n",
    "                sample.points.append(point)\n",
    "print(\"over\")"
   ],
   "metadata": {
    "collapsed": false,
    "pycharm": {
     "name": "#%%\n",
     "is_executing": false
    }
   }
  },
  {
   "cell_type": "code",
   "execution_count": 70,
   "outputs": [
    {
     "name": "stdout",
     "text": [
      "                         QuantReg Regression Results                          \n",
      "==============================================================================\n",
      "Dep. Variable:                      y   Pseudo R-squared:               0.2674\n",
      "Model:                       QuantReg   Bandwidth:                       1130.\n",
      "Method:                 Least Squares   Sparsity:                        2219.\n",
      "Date:                Thu, 08 Oct 2020   No. Observations:                   30\n",
      "Time:                        01:17:28   Df Residuals:                       17\n",
      "                                        Df Model:                           12\n",
      "==============================================================================\n",
      "                 coef    std err          t      P>|t|      [0.025      0.975]\n",
      "------------------------------------------------------------------------------\n",
      "const         -3.6096   5.33e+04  -6.77e-05      1.000   -1.12e+05    1.12e+05\n",
      "x1            22.2543   1314.964      0.017      0.987   -2752.077    2796.585\n",
      "x2           -20.1152   1.17e+04     -0.002      0.999   -2.47e+04    2.47e+04\n",
      "x3           -16.5042   4.43e+04     -0.000      1.000   -9.36e+04    9.35e+04\n",
      "x4            -7.5205   4.08e+04     -0.000      1.000   -8.61e+04    8.61e+04\n",
      "x5           -10.3995   8428.155     -0.001      0.999   -1.78e+04    1.78e+04\n",
      "x6            35.8677     15.372      2.333      0.032       3.435      68.300\n",
      "x7            -0.0250      0.834     -0.030      0.976      -1.784       1.734\n",
      "x8           -27.5626     68.428     -0.403      0.692    -171.933     116.808\n",
      "x9           353.3564    735.049      0.481      0.637   -1197.461    1904.174\n",
      "x10           46.5283     88.050      0.528      0.604    -139.240     232.297\n",
      "x11          598.3933    358.986      1.667      0.114    -159.001    1355.788\n",
      "x12           18.5123   4295.402      0.004      0.997   -9043.994    9081.019\n",
      "==============================================================================\n",
      "\n",
      "The condition number is large, 5.39e+06. This might indicate that there are\n",
      "strong multicollinearity or other numerical problems.\n"
     ],
     "output_type": "stream"
    }
   ],
   "source": [
    "import statsmodels.api as sm\n",
    "qrX = X_train\n",
    "qrX = sm.add_constant(qrX[0:])\n",
    "qr = sm.QuantReg(Y_train.reshape(-1,1),qrX)\n",
    "res = qr.fit(q=.2)\n",
    "print(res.summary())"
   ],
   "metadata": {
    "collapsed": false,
    "pycharm": {
     "name": "#%%\n",
     "is_executing": false
    }
   }
  },
  {
   "cell_type": "code",
   "execution_count": 71,
   "outputs": [
    {
     "name": "stderr",
     "text": [
      " D:\\CondaEnv\\netSVGpython36\\lib\\site-packages\\statsmodels\\regression\\quantile_regression.py:235: RuntimeWarning:invalid value encountered in less_equal\n",
      " D:\\CondaEnv\\netSVGpython36\\lib\\site-packages\\statsmodels\\regression\\quantile_regression.py:191: IterationLimitWarning:Maximum number of iterations (1000) reached.\n",
      " D:\\CondaEnv\\netSVGpython36\\lib\\site-packages\\statsmodels\\regression\\quantile_regression.py:191: IterationLimitWarning:Maximum number of iterations (1000) reached.\n",
      " D:\\CondaEnv\\netSVGpython36\\lib\\site-packages\\statsmodels\\regression\\quantile_regression.py:191: IterationLimitWarning:Maximum number of iterations (1000) reached.\n"
     ],
     "output_type": "stream"
    },
    {
     "name": "stdout",
     "text": [
      "0.05\t-8.3293\t[-250.8779  -76.3174  -15.3942   -9.2438    9.0031   43.6684    0.7776\n",
      "  -57.9675  505.7426  -23.084  1001.7626   40.9309]\n",
      "0.15\t-20.1173\t[ 364.6409 -575.1031  -60.3284  149.4598   66.992    35.0165    0.1079\n",
      "  -17.3784  364.6839   45.9394  581.699   142.9456]\n",
      "0.25\t-7.0691\t[ 675.9382 -256.0401 -117.433    15.3616   -9.4904   33.0162   -0.0053\n",
      "   -9.455   351.6979   65.4675  523.2488   38.8887]\n",
      "0.35\t5.8701\t[1089.4738  -69.284   -28.9183   -1.6966  -15.2844   31.5324    0.0719\n",
      "  -11.6043  350.3705   63.7747  508.7335 -614.1965]\n",
      "0.45\t-29.6981\t[1480.6061 -837.3872 -393.2662 -102.7675   20.254    30.3312    0.0565\n",
      "  -18.1513  306.327    37.6556  452.9546 -244.5425]\n",
      "0.55\t-16.8948\t[ 405.7303 -732.8405   -1.6212  192.037    18.2629   16.6058   -0.1758\n",
      "  -41.4982  -52.8077  -36.6419  466.3194  360.2824]\n",
      "0.65\t12.9909\t[ 384.4304 -868.216   193.0321  350.5129  100.4469   11.6483    0.5302\n",
      "   27.0709   26.6861  -38.5954  139.0486 1073.7271]\n",
      "0.75\t13.6509\t[ -96.3742 -257.8379   32.5367   92.1796  -87.4867    9.4843    0.5534\n",
      "  -16.3377  -89.6775  -91.9455  263.0861  219.6737]\n",
      "0.85\t8.7041\t[-125.4908 -223.7582 -227.917  -146.7097 -345.5192    7.7825    0.5614\n",
      "  -19.76   -141.6015 -108.1635  235.357  -473.7661]\n",
      "0.95\t6.7486\t[-900.502    75.9804    1.5878  -57.0943   58.2138   -4.3776   -0.0816\n",
      "    2.2404 -452.178  -135.0252   -2.3518 -289.241 ]\n",
      "120120.5082991111\n",
      "516.26597816516\n",
      "-5939.443725093115\n",
      "3158.6037042069656\n",
      "-13415.873556275736\n",
      "12686.50323576227\n",
      "14.90332681737651\n",
      "1.2676264216910837\n",
      "-16.963474116018006\n",
      "1582.8688726412238\n",
      "22.234891096900697\n",
      "731.8873894928046\n",
      "-824.5783794134368\n",
      "over\n"
     ],
     "output_type": "stream"
    }
   ],
   "source": [
    "quantiles = np.arange(.05, .96, .1)\n",
    "quantiles = np.around(quantiles, decimals=3)\n",
    "def fit_model(q):\n",
    "    res = qr.fit(q=q)\n",
    "    return q, np.around(res.params,decimals=  4)\n",
    "\n",
    "models = []\n",
    "\n",
    "for x in quantiles:\n",
    "    q, param = fit_model(x)\n",
    "    model = QrModels.QrModels(q, param[0], param[1:])\n",
    "    models.append(model)\n",
    "\n",
    "for model in models:\n",
    "    print(str(model.q)+'\\t'+str(model.a)+'\\t'+str(model.param))\n",
    "\n",
    "ols = sm.OLS(Y_train.reshape(-1,1),qrX).fit()\n",
    "           \n",
    "for ol in ols.params:\n",
    "    print(str(ol))\n",
    "print(\"over\")"
   ],
   "metadata": {
    "collapsed": false,
    "pycharm": {
     "name": "#%%\n",
     "is_executing": false
    }
   }
  },
  {
   "cell_type": "code",
   "execution_count": 72,
   "outputs": [],
   "source": [
    "y_quantile = [15676.750,16559.600,16657.000,17030.200,17143.350,17286.050,17342.350,17843.250,18193.950,18403.250]"
   ],
   "metadata": {
    "collapsed": false,
    "pycharm": {
     "name": "#%%\n",
     "is_executing": false
    }
   }
  },
  {
   "cell_type": "code",
   "execution_count": 73,
   "outputs": [
    {
     "name": "stdout",
     "text": [
      "over\n"
     ],
     "output_type": "stream"
    }
   ],
   "source": [
    "\n",
    "for xv in x_value:\n",
    "    xv.sort()\n",
    "for xv in x_value_ori:\n",
    "    xv.sort()\n",
    "print(\"over\")"
   ],
   "metadata": {
    "collapsed": false,
    "pycharm": {
     "name": "#%%\n",
     "is_executing": false
    }
   }
  },
  {
   "cell_type": "code",
   "execution_count": 74,
   "outputs": [
    {
     "name": "stdout",
     "text": [
      "over\n"
     ],
     "output_type": "stream"
    }
   ],
   "source": [
    "vir_xpoint = []\n",
    "vir_ypoint = []\n",
    "del_list = []\n",
    "QRselection.qr_selection2(xlim_list, models, vir_xpoint, vir_ypoint, y_quantile, ols, x_value_ori,\n",
    "                 n_sample, X_train, Y_train, sample_list, point_list, x_value)\n",
    "print(\"over\")"
   ],
   "metadata": {
    "collapsed": false,
    "pycharm": {
     "name": "#%%\n",
     "is_executing": false
    }
   }
  },
  {
   "cell_type": "code",
   "execution_count": 75,
   "outputs": [
    {
     "name": "stdout",
     "text": [
      "over\n"
     ],
     "output_type": "stream"
    }
   ],
   "source": [
    "i = 0\n",
    "for point in point_list:\n",
    "    if point.checked == 1:\n",
    "        i += 1\n",
    "print(\"over\")"
   ],
   "metadata": {
    "collapsed": false,
    "pycharm": {
     "name": "#%%\n",
     "is_executing": false
    }
   }
  },
  {
   "cell_type": "code",
   "execution_count": 76,
   "outputs": [
    {
     "name": "stdout",
     "text": [
      "Covariance matrix is not full rank; solving with SVD (slow)\n",
      "This happened because you have duplicated or too many neurons\n",
      "over\n"
     ],
     "output_type": "stream"
    },
    {
     "name": "stderr",
     "text": [
      " D:\\CondaEnv\\netSVGpython36\\lib\\site-packages\\hpelm\\nnets\\slfn.py:62: RuntimeWarning:overflow encountered in exp\n",
      " D:\\CondaEnv\\netSVGpython36\\lib\\site-packages\\hpelm\\nnets\\slfn_python.py:65: FutureWarning:`rcond` parameter will change to the default of machine precision times ``max(M, N)`` where M and N are the input matrix dimensions.\n",
      "To use the future default and silence this warning we advise to pass `rcond=None`, to keep using the old, explicitly pass `rcond=-1`.\n"
     ],
     "output_type": "stream"
    }
   ],
   "source": [
    "from hpelm import ELM\n",
    "elm_old = ELM(12, 1)\n",
    "elm_old.add_neurons(51, \"sigm\")\n",
    "#elm.add_neurons(10, \"rbf_l2\")\n",
    "elm_old.train(X_train, Y_train, \"LOO\")\n",
    "y_predict_old = elm_old.predict(X_test)\n",
    "\n",
    "elm_new = ELM(12, 1)\n",
    "elm_new.add_neurons(51, \"sigm\")\n",
    "#elm.add_neurons(10, \"rbf_l2\")\n",
    "add_x_train = dataset.add_train(X_train, np.array(vir_xpoint))\n",
    "add_y_train = dataset.add_train(Y_train, np.array(vir_ypoint))\n",
    "elm_new.train(np.array(vir_xpoint), np.array(vir_ypoint), \"LOO\")\n",
    "y_predict_new = elm_new.predict(X_test)\n",
    "\n",
    "test_list = []\n",
    "for i in range(len(X_test)):\n",
    "    test_point = Point.TestPoint(X_test[i], Y_test[i], y_predict_old[i], y_predict_new[i])\n",
    "    test_list.append(test_point)\n",
    "print(\"over\")"
   ],
   "metadata": {
    "collapsed": false,
    "pycharm": {
     "name": "#%%\n",
     "is_executing": false
    }
   }
  },
  {
   "cell_type": "code",
   "execution_count": 77,
   "outputs": [
    {
     "data": {
      "text/plain": "<Figure size 720x720 with 1 Axes>",
      "image/png": "[encoded data removed]"
     },
     "metadata": {
      "needs_background": "light"
     },
     "output_type": "display_data"
    }
   ],
   "source": [
    "plotting.plot_erro2(test_list, exp_config, fig_dir, \"vir_erro\")"
   ],
   "metadata": {
    "collapsed": false,
    "pycharm": {
     "name": "#%%\n",
     "is_executing": false
    }
   }
  },
  {
   "cell_type": "code",
   "execution_count": 78,
   "outputs": [
    {
     "name": "stdout",
     "text": [
      " all test point\n",
      "[1447.37142857]\n",
      "[1504.74435799]\n",
      "[3187499.33063494]\n",
      "[3374770.42675568]\n",
      "[0.07486223]\n",
      "[0.07790413]\n"
     ],
     "output_type": "stream"
    }
   ],
   "source": [
    "mae_old, mae_new = Measure.mae2(test_list)\n",
    "mse_old, mse_new = Measure.mse2(test_list)\n",
    "mape_old, mape_new = Measure.mape2(test_list)\n",
    "print(\" all test point\")\n",
    "print(mae_old)\n",
    "print(mae_new)\n",
    "print(mse_old)\n",
    "print(mse_new)\n",
    "print(mape_old)\n",
    "print(mape_new)"
   ],
   "metadata": {
    "collapsed": false,
    "pycharm": {
     "name": "#%%\n",
     "is_executing": false
    }
   }
  },
  {
   "cell_type": "code",
   "execution_count": 79,
   "outputs": [],
   "source": [
    "\n",
    "np.savetxt(\"../figures/MLCC/vx_data.txt\", np.array(vir_xpoint),fmt='%.8f',delimiter=' ')"
   ],
   "metadata": {
    "collapsed": false,
    "pycharm": {
     "name": "#%%\n",
     "is_executing": false
    }
   }
  },
  {
   "cell_type": "code",
   "execution_count": 80,
   "outputs": [],
   "source": [
    "np.savetxt(\"../figures/MLCC/vy_data.txt\", np.array(vir_ypoint),fmt='%.8f',delimiter=' ')\n"
   ],
   "metadata": {
    "collapsed": false,
    "pycharm": {
     "name": "#%%\n",
     "is_executing": false
    }
   }
  }
 ],
 "metadata": {
  "kernelspec": {
   "display_name": "Python 3",
   "language": "python",
   "name": "python3"
  },
  "language_info": {
   "codemirror_mode": {
    "name": "ipython",
    "version": 2
   },
   "file_extension": ".py",
   "mimetype": "text/x-python",
   "name": "python",
   "nbconvert_exporter": "python",
   "pygments_lexer": "ipython2",
   "version": "2.7.6"
  },
  "pycharm": {
   "stem_cell": {
    "cell_type": "raw",
    "source": [],
    "metadata": {
     "collapsed": false
    }
   }
  }
 },
 "nbformat": 4,
 "nbformat_minor": 0
}