{
 "cells": [
  {
   "cell_type": "code",
   "execution_count": 28,
   "metadata": {
    "pycharm": {
     "is_executing": false
    }
   },
   "outputs": [
    {
     "data": {
      "text/plain": [
       "<module 'plotting' from 'D:\\\\netSVG\\\\plotting.py'>"
      ]
     },
     "execution_count": 28,
     "metadata": {},
     "output_type": "execute_result"
    }
   ],
   "source": [
    "import importlib\n",
    "import dataset\n",
    "import config,plotting\n",
    "\n",
    "importlib.reload(config)\n",
    "importlib.reload(dataset)\n",
    "importlib.reload(plotting)\n"
   ]
  },
  {
   "cell_type": "code",
   "execution_count": 29,
   "metadata": {
    "pycharm": {
     "is_executing": false,
     "name": "#%%\n"
    }
   },
   "outputs": [
    {
     "name": "stdout",
     "output_type": "stream",
     "text": [
      "Directory ../figures/functional already exists replacing files in this notebook\n"
     ]
    }
   ],
   "source": [
    "import os\n",
    "dataset_config = config.DatasetConfig(scenario=\"functional\", n_instance=1000)\n",
    "\n",
    "assert(dataset_config.scenario == \"functional\" \n",
    "      )\n",
    "fig_dir = f\"../figures/{dataset_config.scenario}\"\n",
    "\n",
    "try:\n",
    "    os.mkdir(fig_dir)\n",
    "    print(f\"Directory {fig_dir} created \") \n",
    "except FileExistsError:\n",
    "    print(f\"Directory {fig_dir} already exists replacing files in this notebook\")\n",
    "\n"
   ]
  },
  {
   "cell_type": "code",
   "execution_count": 30,
   "metadata": {
    "pycharm": {
     "is_executing": false
    }
   },
   "outputs": [
    {
     "name": "stdout",
     "output_type": "stream",
     "text": [
      "0.8492 \t0.3298 \t0.9312 \n",
      "\n",
      "0.7384 \t0.7672 \t1.3110 \n",
      "\n",
      "0.4299 \t0.1582 \t1.6050 \n",
      "\n",
      "0.2072 \t0.2864 \t1.6383 \n",
      "\n",
      "0.3234 \t0.6871 \t2.7847 \n",
      "\n",
      "0.3752 \t0.5121 \t2.6119 \n",
      "\n",
      "0.8171 \t0.7321 \t1.8783 \n",
      "\n",
      "0.5317 \t0.7498 \t1.5906 \n",
      "\n",
      "0.7743 \t0.2395 \t0.6192 \n",
      "\n",
      "0.3346 \t0.6629 \t2.8536 \n",
      "\n",
      "0.5746 \t0.8162 \t1.0994 \n",
      "\n",
      "0.8639 \t0.7939 \t1.8812 \n",
      "\n",
      "0.1986 \t0.4691 \t2.8353 \n",
      "\n",
      "0.6725 \t0.3095 \t0.2018 \n",
      "\n",
      "0.9018 \t0.6876 \t2.8333 \n",
      "\n",
      "0.4965 \t0.8296 \t1.2912 \n",
      "\n",
      "0.4128 \t0.0680 \t1.6482 \n",
      "\n",
      "0.2343 \t0.6137 \t3.3226 \n",
      "\n",
      "0.7750 \t0.8715\t0.9821\n",
      "\n",
      "0.9122\t0.7888\t2.3591\n",
      "\n",
      "\n",
      "\n"
     ]
    },
    {
     "ename": "IndexError",
     "evalue": "list index out of range",
     "output_type": "error",
     "traceback": [
      "\u001b[1;31m---------------------------------------------------------------------------\u001b[0m",
      "\u001b[1;31mIndexError\u001b[0m                                Traceback (most recent call last)",
      "\u001b[1;32m<ipython-input-30-f54ea2165847>\u001b[0m in \u001b[0;36m<module>\u001b[1;34m\u001b[0m\n\u001b[1;32m----> 1\u001b[1;33m \u001b[0mX_test\u001b[0m\u001b[1;33m,\u001b[0m\u001b[0mY_test\u001b[0m \u001b[1;33m=\u001b[0m \u001b[0mdataset\u001b[0m\u001b[1;33m.\u001b[0m\u001b[0mget_functional_test_data\u001b[0m\u001b[1;33m(\u001b[0m\u001b[1;33m)\u001b[0m\u001b[1;33m\u001b[0m\u001b[1;33m\u001b[0m\u001b[0m\n\u001b[0m\u001b[0;32m      2\u001b[0m \u001b[1;33m\u001b[0m\u001b[0m\n\u001b[0;32m      3\u001b[0m \u001b[0mprint\u001b[0m\u001b[1;33m(\u001b[0m\u001b[0mX_test\u001b[0m\u001b[1;33m)\u001b[0m\u001b[1;33m\u001b[0m\u001b[1;33m\u001b[0m\u001b[0m\n\u001b[0;32m      4\u001b[0m \u001b[0mprint\u001b[0m\u001b[1;33m(\u001b[0m\u001b[0mY_test\u001b[0m\u001b[1;33m)\u001b[0m\u001b[1;33m\u001b[0m\u001b[1;33m\u001b[0m\u001b[0m\n",
      "\u001b[1;32mD:\\netSVG\\dataset.py\u001b[0m in \u001b[0;36mget_functional_test_data\u001b[1;34m()\u001b[0m\n\u001b[0;32m     22\u001b[0m             \u001b[0mx\u001b[0m\u001b[1;33m.\u001b[0m\u001b[0mappend\u001b[0m\u001b[1;33m(\u001b[0m\u001b[0mnum\u001b[0m\u001b[1;33m)\u001b[0m\u001b[1;33m\u001b[0m\u001b[1;33m\u001b[0m\u001b[0m\n\u001b[0;32m     23\u001b[0m         \u001b[0mX\u001b[0m\u001b[1;33m.\u001b[0m\u001b[0mappend\u001b[0m\u001b[1;33m(\u001b[0m\u001b[0mx\u001b[0m\u001b[1;33m)\u001b[0m\u001b[1;33m\u001b[0m\u001b[1;33m\u001b[0m\u001b[0m\n\u001b[1;32m---> 24\u001b[1;33m         \u001b[0my\u001b[0m \u001b[1;33m=\u001b[0m \u001b[0mfloat\u001b[0m\u001b[1;33m(\u001b[0m\u001b[0mitem\u001b[0m\u001b[1;33m[\u001b[0m\u001b[1;33m-\u001b[0m\u001b[1;36m1\u001b[0m\u001b[1;33m]\u001b[0m\u001b[1;33m)\u001b[0m\u001b[1;33m\u001b[0m\u001b[1;33m\u001b[0m\u001b[0m\n\u001b[0m\u001b[0;32m     25\u001b[0m         \u001b[0mY\u001b[0m\u001b[1;33m.\u001b[0m\u001b[0mappend\u001b[0m\u001b[1;33m(\u001b[0m\u001b[0my\u001b[0m\u001b[1;33m)\u001b[0m\u001b[1;33m\u001b[0m\u001b[1;33m\u001b[0m\u001b[0m\n\u001b[0;32m     26\u001b[0m \u001b[1;33m\u001b[0m\u001b[0m\n",
      "\u001b[1;31mIndexError\u001b[0m: list index out of range"
     ]
    }
   ],
   "source": [
    "X_test,Y_test = dataset.get_functional_test_data()\n",
    "\n",
    "print(X_test)\n",
    "print(Y_test)"
   ]
  },
  {
   "cell_type": "code",
   "execution_count": 31,
   "metadata": {},
   "outputs": [],
   "source": [
    "exp_config = config.Config(\n",
    "    model=config.ModelConfig(activation=\"elu\", lr_gen=0.0001, dec_gen=0, lr_disc=0.001, optim_gen=\"Adam\", \n",
    "                             optim_disc=\"Adam\", z_input_size=1),\n",
    "    training=config.TrainingConfig(n_epochs=2000, batch_size=100, n_samples=100),\n",
    "    dataset=dataset_config,\n",
    "    run=config.RunConfig(save_fig=1)\n",
    ")"
   ]
  },
  {
   "cell_type": "code",
   "execution_count": 32,
   "metadata": {
    "pycharm": {
     "is_executing": false
    }
   },
   "outputs": [
    {
     "name": "stdout",
     "output_type": "stream",
     "text": [
      "0.4522 \t0.3192 \t0.7824 \n",
      "\n",
      "0.3904 \t0.2042 \t1.4808 \n",
      "\n",
      "0.9764 \t0.0700 \t2.7607 \n",
      "\n",
      "0.5233 \t0.9500 \t1.1487 \n",
      "\n",
      "0.1109 \t0.1412 \t2.4417 \n",
      "\n",
      "0.3299 \t0.7213 \t2.5728 \n",
      "\n",
      "0.3421 \t0.9288 \t1.8034 \n",
      "\n",
      "0.5211 \t0.4073 \t1.1039 \n",
      "\n",
      "0.1203 \t0.5209 \t3.2106 \n",
      "\n",
      "0.6255 \t0.2191 \t0.5796 \n",
      "\n",
      "0.3466 \t0.8424 \t1.8635 \n",
      "\n",
      "0.1992 \t0.9869 \t2.5832 \n",
      "\n",
      "0.2983 \t0.7699 \t2.4064 \n",
      "\n",
      "0.8899 \t0.7061 \t2.6210 \n",
      "\n",
      "0.5014 \t0.5953 \t2.3293 \n",
      "\n",
      "0.2770 \t0.7529 \t2.5767 \n",
      "\n",
      "0.5340 \t0.4967 \t1.8732 \n",
      "\n",
      "0.5743 \t0.8651 \t0.9187 \n",
      "\n",
      "0.0148 \t0.9685 \t2.2113 \n",
      "\n",
      "0.7028 \t0.0988 \t1.0467 \n",
      "\n",
      "0.5067 \t0.5470 \t2.2373 \n",
      "\n",
      "0.3813 \t0.4030 \t1.6296 \n",
      "\n",
      "0.0649 \t0.1070 \t2.3883 \n",
      "\n",
      "0.3586 \t0.7242 \t2.4399 \n",
      "\n",
      "0.2035 \t0.7830 \t2.5703 \n",
      "\n",
      "0.8138 \t0.5666 \t2.3635 \n",
      "\n",
      "0.3934 \t0.8113 \t1.8007 \n",
      "\n",
      "0.0536 \t0.5768 \t3.2736 \n",
      "\n",
      "0.3751 \t0.9440 \t1.7206 \n",
      "\n",
      "0.1653 \t0.5076 \t3.1540 \n",
      "\n",
      "[[0.4522 0.3192]\n",
      " [0.3904 0.2042]\n",
      " [0.9764 0.07  ]\n",
      " [0.5233 0.95  ]\n",
      " [0.1109 0.1412]\n",
      " [0.3299 0.7213]\n",
      " [0.3421 0.9288]\n",
      " [0.5211 0.4073]\n",
      " [0.1203 0.5209]\n",
      " [0.6255 0.2191]\n",
      " [0.3466 0.8424]\n",
      " [0.1992 0.9869]\n",
      " [0.2983 0.7699]\n",
      " [0.8899 0.7061]\n",
      " [0.5014 0.5953]\n",
      " [0.277  0.7529]\n",
      " [0.534  0.4967]\n",
      " [0.5743 0.8651]\n",
      " [0.0148 0.9685]\n",
      " [0.7028 0.0988]\n",
      " [0.5067 0.547 ]\n",
      " [0.3813 0.403 ]\n",
      " [0.0649 0.107 ]\n",
      " [0.3586 0.7242]\n",
      " [0.2035 0.783 ]\n",
      " [0.8138 0.5666]\n",
      " [0.3934 0.8113]\n",
      " [0.0536 0.5768]\n",
      " [0.3751 0.944 ]\n",
      " [0.1653 0.5076]]\n",
      "[0.7824 1.4808 2.7607 1.1487 2.4417 2.5728 1.8034 1.1039 3.2106 0.5796\n",
      " 1.8635 2.5832 2.4064 2.621  2.3293 2.5767 1.8732 0.9187 2.2113 1.0467\n",
      " 2.2373 1.6296 2.3883 2.4399 2.5703 2.3635 1.8007 3.2736 1.7206 3.154 ]\n"
     ]
    }
   ],
   "source": [
    "X_train,Y_train = dataset.get_functional_train_data()\n",
    "\n",
    "print(X_train)\n",
    "print(Y_train)"
   ]
  },
  {
   "cell_type": "code",
   "execution_count": 15,
   "metadata": {},
   "outputs": [
    {
     "ename": "TypeError",
     "evalue": "plot_dataset() takes 4 positional arguments but 6 were given",
     "output_type": "error",
     "traceback": [
      "\u001b[1;31m---------------------------------------------------------------------------\u001b[0m",
      "\u001b[1;31mTypeError\u001b[0m                                 Traceback (most recent call last)",
      "\u001b[1;32m<ipython-input-15-25299e6b9daa>\u001b[0m in \u001b[0;36m<module>\u001b[1;34m\u001b[0m\n\u001b[1;32m----> 1\u001b[1;33m \u001b[0mplotting\u001b[0m\u001b[1;33m.\u001b[0m\u001b[0mplot_dataset\u001b[0m\u001b[1;33m(\u001b[0m\u001b[0mX_train\u001b[0m\u001b[1;33m,\u001b[0m \u001b[0mY_train\u001b[0m\u001b[1;33m,\u001b[0m \u001b[0mX_test\u001b[0m\u001b[1;33m,\u001b[0m \u001b[0mY_test\u001b[0m\u001b[1;33m,\u001b[0m \u001b[0mexp_config\u001b[0m\u001b[1;33m,\u001b[0m \u001b[0mfig_dir\u001b[0m\u001b[1;33m)\u001b[0m\u001b[1;33m\u001b[0m\u001b[1;33m\u001b[0m\u001b[0m\n\u001b[0m",
      "\u001b[1;31mTypeError\u001b[0m: plot_dataset() takes 4 positional arguments but 6 were given"
     ]
    }
   ],
   "source": [
    "plotting.plot_front(X_train, Y_train, X_test, Y_test, exp_config, fig_dir)"
   ]
  },
  {
   "cell_type": "code",
   "execution_count": null,
   "metadata": {},
   "outputs": [],
   "source": []
  }
 ],
 "metadata": {
  "kernelspec": {
   "display_name": "Python 3",
   "language": "python",
   "name": "python3"
  },
  "language_info": {
   "codemirror_mode": {
    "name": "ipython",
    "version": 3
   },
   "file_extension": ".py",
   "mimetype": "text/x-python",
   "name": "python",
   "nbconvert_exporter": "python",
   "pygments_lexer": "ipython3",
   "version": "3.6.10"
  },
  "pycharm": {
   "stem_cell": {
    "cell_type": "raw",
    "metadata": {
     "collapsed": false
    },
    "source": []
   }
  }
 },
 "nbformat": 4,
 "nbformat_minor": 1
}
